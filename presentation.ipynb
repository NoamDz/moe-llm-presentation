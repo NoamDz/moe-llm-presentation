{
  "cells": [
    {
      "cell_type": "markdown",
      "metadata": {
        "id": "view-in-github",
        "colab_type": "text"
      },
      "source": [
        "<a href=\"https://colab.research.google.com/github/stavco9/moe-llm-presentation/blob/main/presentation.ipynb\" target=\"_parent\"><img src=\"https://colab.research.google.com/assets/colab-badge.svg\" alt=\"Open In Colab\"/></a>"
      ]
    },
    {
      "cell_type": "markdown",
      "id": "28700274-faf1-4b4a-ba3c-159a77d81563",
      "metadata": {
        "id": "28700274-faf1-4b4a-ba3c-159a77d81563"
      },
      "source": [
        "# Mixture of experts Language Model presentation\n",
        "\n",
        "## Noam Delbari & Stav Cohen"
      ]
    },
    {
      "cell_type": "markdown",
      "id": "b88c93a4-e500-4480-a9fe-16e50791a9f6",
      "metadata": {
        "id": "b88c93a4-e500-4480-a9fe-16e50791a9f6"
      },
      "source": [
        "## 1 Background:"
      ]
    },
    {
      "cell_type": "markdown",
      "id": "cda35158-1a66-4354-9346-92b5bbd3ef43",
      "metadata": {
        "id": "cda35158-1a66-4354-9346-92b5bbd3ef43"
      },
      "source": [
        "### 1.1 Standard Transformer"
      ]
    },
    {
      "cell_type": "markdown",
      "id": "fe019de3-0300-4285-9dcd-6182400f5e56",
      "metadata": {
        "id": "fe019de3-0300-4285-9dcd-6182400f5e56"
      },
      "source": [
        "- Encoder/decoder stacks, multi-head self-attention, position encodings, residual + layer-norm.\n",
        "- Emphasize the Feed-Forward Network (FFN) accounting for ~⅔ of parameters and FLOPs."
      ]
    },
    {
      "cell_type": "markdown",
      "id": "4b16ecc2-ad9d-4f1c-9bfe-788abe1f2d04",
      "metadata": {
        "id": "4b16ecc2-ad9d-4f1c-9bfe-788abe1f2d04"
      },
      "source": [
        "### 1.2 Mixture-of-Experts (MoE)"
      ]
    },
    {
      "cell_type": "markdown",
      "id": "2d106ada-a163-49f4-82af-ba3b2dd9bb2a",
      "metadata": {
        "id": "2d106ada-a163-49f4-82af-ba3b2dd9bb2a"
      },
      "source": [
        "- Multiple specialist sub-nets compete; a gating network softly/hard-routes input to the best expert(s)."
      ]
    },
    {
      "cell_type": "markdown",
      "id": "b9e70a8c-89fa-4649-83ba-0e205befe346",
      "metadata": {
        "id": "b9e70a8c-89fa-4649-83ba-0e205befe346"
      },
      "source": [
        "## 2 Switch transformer"
      ]
    },
    {
      "cell_type": "markdown",
      "id": "6283fa5b-7516-441a-95f4-8eb1c6c07fe3",
      "metadata": {
        "id": "6283fa5b-7516-441a-95f4-8eb1c6c07fe3"
      },
      "source": [
        "### 2.1 Introduction: Motivation & Research Questions"
      ]
    },
    {
      "cell_type": "markdown",
      "id": "da460eef-f899-48bd-a268-f0a3cd93fb45",
      "metadata": {
        "id": "da460eef-f899-48bd-a268-f0a3cd93fb45"
      },
      "source": [
        "TBD"
      ]
    },
    {
      "cell_type": "markdown",
      "id": "fcee1062-c3b6-4348-8786-97806bcf7eb2",
      "metadata": {
        "id": "fcee1062-c3b6-4348-8786-97806bcf7eb2"
      },
      "source": [
        "### 2.2 Description & Architecture"
      ]
    },
    {
      "cell_type": "markdown",
      "id": "7863ffea-8996-4830-aa5e-20366d479d78",
      "metadata": {
        "id": "7863ffea-8996-4830-aa5e-20366d479d78"
      },
      "source": [
        "- Switch Transformer extends the standard Transformer by replacing each dense feed-forward network with a Mixture-of-Experts layer which is being enabled by a lightweight gating network, letting only 1–2 experts process every token. This design keeps inference cost comparable to the dense baseline while unlocking trillion-parameter scale and superior quality on language, translation and multitask benchmarks\n",
        "- Hands-on code snippets of the mode implementation, using equations and explanations: Forward pass, Switch Transformer Block and Switch Transformer model."
      ]
    },
    {
      "cell_type": "markdown",
      "id": "3dd2cfbd-cef2-4fff-adac-cf97bd4b99dd",
      "metadata": {
        "id": "3dd2cfbd-cef2-4fff-adac-cf97bd4b99dd"
      },
      "source": [
        "### 2.3 Experiments & Results"
      ]
    },
    {
      "cell_type": "markdown",
      "id": "f9892016-e26e-44c5-8fa9-e5684e2ec41b",
      "metadata": {
        "id": "f9892016-e26e-44c5-8fa9-e5684e2ec41b"
      },
      "source": [
        "- Presenting Scaling & Efficiency results to motivate why use sparse experts\n",
        "- Presenting  Ablation & Stability results to show that gating mechanism is capable for training large scale models\n",
        "- Downstream fine-tuning results to show that the lower perplexity (compared to dense) during pre training has an effect over downstream tasks"
      ]
    },
    {
      "cell_type": "markdown",
      "id": "6985c725-08ca-4c7b-9b5e-6c65869db759",
      "metadata": {
        "id": "6985c725-08ca-4c7b-9b5e-6c65869db759"
      },
      "source": [
        "### 2.4 Hands-on experiments"
      ]
    },
    {
      "cell_type": "markdown",
      "id": "ec98893e-7dd9-419b-9438-3f4903c40d75",
      "metadata": {
        "id": "ec98893e-7dd9-419b-9438-3f4903c40d75"
      },
      "source": [
        "- Forward pass: Configure single expert per token and plot router decisions (Specificity of token types per expert)\n",
        "- Training: Comparing switch model to dense baseline with equal number of active parameters and show that sparse model reaches lower validation loss faster\n",
        "- Scaling and Efficiency miniature run"
      ]
    },
    {
      "cell_type": "markdown",
      "id": "57167407-c9a5-429f-87fb-1de5c50a6951",
      "metadata": {
        "id": "57167407-c9a5-429f-87fb-1de5c50a6951"
      },
      "source": [
        "## 3 PEER (parameter efficient expert retrieval)"
      ]
    },
    {
      "cell_type": "markdown",
      "id": "f80b9f11-e31a-41a5-b8e6-813bf37d7c68",
      "metadata": {
        "id": "f80b9f11-e31a-41a5-b8e6-813bf37d7c68"
      },
      "source": [
        "### 3.0 Terms"
      ]
    },
    {
      "cell_type": "markdown",
      "id": "575a768a-a2b2-4fec-a5ea-af30c20dbfd9",
      "metadata": {
        "id": "575a768a-a2b2-4fec-a5ea-af30c20dbfd9"
      },
      "source": [
        "Just to be alligned, we'll explain here the following terms:\n",
        "\n",
        "* **expert** - A specialized model or sub-model intended to handle a specific subset of data or tasks. It can be assumed as a small neural network (Usually some few neurons) which is a sub part of a layer.\n",
        "* **product key** - A mechanism to enable efficient and effective matching between input data and the best-suited experts to process that data in a vast and diverse pool of potential experts"
      ]
    },
    {
      "cell_type": "markdown",
      "id": "ceae322a-6a7f-4b44-b5e4-57bc15d704a5",
      "metadata": {
        "id": "ceae322a-6a7f-4b44-b5e4-57bc15d704a5"
      },
      "source": [
        "### 3.1 Introduction and motivation"
      ]
    },
    {
      "cell_type": "markdown",
      "id": "d5675abf-bf46-4439-9efb-4f57ee397fd3",
      "metadata": {
        "id": "d5675abf-bf46-4439-9efb-4f57ee397fd3"
      },
      "source": [
        "- Based on the following paper: https://arxiv.org/pdf/2407.04153v1.\n",
        "- The main idea here is the innovation of the sparse mixture-of-experts (MoE) model architectures using PEER (parameter efficient expert retrieval) layer.\n",
        "- The PEER layer includes a vast number of tiny expert (over a million) and solves one of the main issues of the traditional models:\n",
        "  - In traditional MoE models, the feedforward layers (FFW) have a linear increase in computational costs and activation memory as the hidden layer width grows.\n",
        "  - However, in PEER, by enabling efficient utilization of a massive number of experts, it can support a further scaling of transformer models while maintaining almost the same computational efficiency.\n",
        "  - It uses the product key technique for sparse retrieval.\n"
      ]
    },
    {
      "cell_type": "markdown",
      "id": "14de9cd4-23cb-4084-9c74-a7fbe21d5623",
      "metadata": {
        "id": "14de9cd4-23cb-4084-9c74-a7fbe21d5623"
      },
      "source": [
        "### 3.2 Architecture and mathematical equalities"
      ]
    },
    {
      "cell_type": "markdown",
      "id": "2bf6aef6-c0ce-4246-8821-0ab1ca0db463",
      "metadata": {
        "id": "2bf6aef6-c0ce-4246-8821-0ab1ca0db463"
      },
      "source": [
        "<img src=\"https://github.com/stavco9/moe-llm-presentation/blob/main/Peer_Layer.png?raw=1\" alt=\"Peer_Layer\" width=\"700\" height=\"700\">"
      ]
    },
    {
      "cell_type": "markdown",
      "id": "f19cc5dd-7fe5-4a11-80c4-807d84608e65",
      "metadata": {
        "id": "f19cc5dd-7fe5-4a11-80c4-807d84608e65"
      },
      "source": [
        "The following is an illustration of the PEER layer:\n",
        "* A PEER layer can be inserted in the middle of a transformer backbone or can be used to replace FFW layers\n",
        "* Given the state vector x from the previous layer, a query\n",
        "network $q$ maps it to a query vector $q(x)$, which is then compared with the product keys to compute the\n",
        "router scores and to retrieve the top $k$ experts $e_1$, ..., $e_k$\n",
        "* After the retrieved experts make their predictions\n",
        "ei(x), their outputs are linearly combined using the softmax-normalized router scores as weights."
      ]
    },
    {
      "cell_type": "markdown",
      "id": "c132de35-4f8d-40b5-b873-7f9a41bffd7d",
      "metadata": {
        "id": "c132de35-4f8d-40b5-b873-7f9a41bffd7d"
      },
      "source": [
        "Formally, a PEER layer is a function $f:{R^n}\\rightarrow{R^m}$ that consists of three parts:\n",
        "* A pool of $N$ experts $E:=\\{{e_i}\\}_{i=1}^{N}$ where each expert $e_i:{R^n}\\rightarrow{R^m}$ shares the same signature as $f$\n",
        "* A matching set of $N$ produect keys: $K:=\\{{k_i}\\}_{i=1}^{N} \\subset R^d$ ($d$ is the dimension of the vectors)\n",
        "* A query network $q:{R^n}\\rightarrow{R^d}$ that maps the input vector $x\\in{R^n}$ to a query vector $q(x)$\n",
        "\n",
        "The layer output is done by the following three steps:\n",
        "1. Retrieving the top $k$ experts: The experts who their corresponding product keys have the highest inner products with the query $q(x)$: $I=T_k(\\{q(x)^Tk_i\\})_{i=1}^{N}$ while $T_k$ is the top $k$ operator\n",
        "2. Actication: Applying nonlinear activations (such as softmax or sigmoid) to the query-key inner products of these\n",
        "top $k$ experts to obtain the router scores: $g_i(x) = s(q(x)^Tk_i)$\n",
        "3. Output: Computing the output by linearly combining the expert outputs weighted by the router scores: $f(x) = \\sum_{{i}\\in{I}}g_i(x)e_i(x)$.\n",
        "\n",
        "Product key retrieval - Efficiency:\n",
        "* Since $N$ can be a huge number $(N \\geq 10^6)$, we don't want to compute it by the naive way\n",
        "* Instead of using $N$ independent $d$-dimensional vectors as our keys $k_i$, we create them by concatenating vectors from two independent sets of $\\frac{d}{2}$-dimensional sub-keys $C, C' \\subset R^{\\frac{d}{2}}$, $|C|=|C'|=\\sqrt{N}$\n",
        "* So in total $K = {\\{[_{c'}^{c}]|c\\in{C}, c'\\in{C'}\\}}$\n",
        "* Hence we choose $N$ to be a perfect square and $d$ to be an even number\n",
        "* Instead of comparing $q(x)$ to all $N$ keys in $K$ and selecting the top $k$ matches, we split the query vector $q(x)$ into two subqueries $q1$ and $q2$ and apply the top $k$ operations to the inner products between the sub-queries and sub-keys\n",
        "respectively\n",
        "* This results in a set of $k^2$ candidate keys, and it is mathematically guaranteed that the $k$ most similar keys to $q(x)$ from $K$ are in this candidate set so we can simply apply the top-k operator again to these $k^2$ inner products to get the top $k$ matching keys from the original set of product keys $K$\n",
        "* Naive way runtime complexity: $O(Nd)$\n",
        "* Efficient way runtime complexity: $O((\\sqrt{N}+k^2)d)$\n",
        "\n",
        "\n",
        "Parameter Efficient Experts and Multi-Head Retrieval:\n",
        "* In other MoE architectures, the hidden layer of each expert is set to the same size as other FFW layers (A few and large experts)\n",
        "* In PEER, every expert is a one hidden layer with a single neuron $e_i(x) := \\sigma(u_i^Tx)v_i$ while $\\sigma$ is a non-linear activation function\n",
        "* Instead of making the size of individual experts different, we are using a multihead retrieval of $h$ independent query networks instead of one, each computes its own query and retrieves a separate set of $k$ experts: $f(x) := \\sum_{i=1}^{h}f^i(x) = \\sum_{i=1}^{h}\\sum_{j \\in I^i} g^j(x)e^j(x)$\n",
        "\n",
        "Hyperparameters and loss function:\n",
        "* There are three main hyperparameters to a standard MoE layer:\n",
        "  1. $P$ - Total number of parameters\n",
        "  2. $P_{active}$ - Total number of active parameters per token\n",
        "  3. $P_{expert}$ - The size of a single expert\n",
        "* Two more important terms:\n",
        "  1. $D$ - Number of training tokens\n",
        "  2. $G := \\frac{P_{active}}{P_{experts}}$ - Number of active experts\n",
        "* Now the loss function is $L(P, D, G) = c + (\\frac{g}{G^\\lambda} + a)\\frac{1}{P^\\alpha} + \\frac{b}{D^\\beta}$ ($a, b, c, g, \\alpha, \\beta, \\lambda$ are constants)\n",
        "* We would like to scale the total number of parameters, of experts and of the tokens, but NOT the number of active parameters, since the number of the active parameters affects the computational and runtime costs\n",
        "* Since we want to increase the number of experts, we need to decrease the size of each expert if we do not increase the number of active parameters. Hence we need a large number of small experts\n",
        "* In PEER, we set $P_{experts}$ to 1 and $P_{active}$ is the number of retrieval heads multiplied by the number of experts retrieved per head which is $hk$. Hence, in PEER layer the number of active experts is $G = hk$"
      ]
    },
    {
      "cell_type": "markdown",
      "id": "5012373d-bae6-4434-a232-692cf8c59c60",
      "metadata": {
        "id": "5012373d-bae6-4434-a232-692cf8c59c60"
      },
      "source": [
        "### 3.3 Results of major experiments"
      ]
    },
    {
      "cell_type": "markdown",
      "id": "cf5015af-e108-4a66-8774-f5ae9a99059f",
      "metadata": {
        "id": "cf5015af-e108-4a66-8774-f5ae9a99059f"
      },
      "source": [
        "<img src=\"https://github.com/stavco9/moe-llm-presentation/blob/main/Peer_Experiment.png?raw=1\" alt=\"PEER_Experiment\" width=\"400\" height=\"400\">"
      ]
    },
    {
      "cell_type": "markdown",
      "id": "421858d6-0557-42b3-b9d5-8e35cdf6a3a2",
      "metadata": {
        "id": "421858d6-0557-42b3-b9d5-8e35cdf6a3a2"
      },
      "source": [
        "The following is a graph of the train loss per batch of their training process"
      ]
    },
    {
      "cell_type": "markdown",
      "id": "9621baeb-678b-4f57-921c-d7ccc874985a",
      "metadata": {
        "id": "9621baeb-678b-4f57-921c-d7ccc874985a"
      },
      "source": [
        "<img src=\"https://github.com/stavco9/moe-llm-presentation/blob/main/6e18_6e19_FLOPs.png?raw=1\" alt=\"6e18_6e19_FLOPs\" width=\"700\" height=\"500\">\n",
        "<img src=\"https://github.com/stavco9/moe-llm-presentation/blob/main/Varying_N_hk.png?raw=1\" alt=\"Varying_N_hk\" width=\"700\" height=\"500\">"
      ]
    },
    {
      "cell_type": "markdown",
      "id": "8ab50e99-1c66-4491-84d1-2a400f6cd1ac",
      "metadata": {
        "id": "8ab50e99-1c66-4491-84d1-2a400f6cd1ac"
      },
      "source": [
        "* The following graphs in the upper side shows the perplexity per number of parameters for 2e19 (more efficient computation) and 2e18 (less efficient computation) FLOP's, comparing different MoE models:\n",
        "  * Dataset is $C4$\n",
        "  * Total number of experts $N$ is $1024^2$\n",
        "  * The number of active experts is $128$ for Dense, PEER and MOE and $256$ memories for PKM\n",
        "  * It can be shown that PEER gives the lower perplexity and with the largest number of parameters\n",
        "* The graph in the left-bottom side shows the perplexity per number of parameters of PEER models, comparing different number of total experts $N$\n",
        "  * The size of the active experts $hk$ is always $128$\n",
        "  * Dataset is $C4$\n",
        "* The graph in the right-bottom side shows the perplexity per number of $h$ independent query networks (Active experts)\n",
        "  * Total number of experts $N$ is always $1024^2$\n",
        "  * Dataset is $C4$"
      ]
    },
    {
      "cell_type": "markdown",
      "id": "aaa4e99a-3ae3-46d6-a9c6-26c578c83c20",
      "metadata": {
        "id": "aaa4e99a-3ae3-46d6-a9c6-26c578c83c20"
      },
      "source": [
        "<img src=\"https://github.com/stavco9/moe-llm-presentation/blob/main/PEER_Experiment_Table.png?raw=1\" alt=\"PEER_Experiment_Table\" width=\"600\" height=\"600\">"
      ]
    },
    {
      "cell_type": "markdown",
      "id": "d2321f72-dc8d-4f60-8ccd-ebe239dec7bd",
      "metadata": {
        "id": "d2321f72-dc8d-4f60-8ccd-ebe239dec7bd"
      },
      "source": [
        "The following table compares the perplexity per model (rows) and per dataset (columns):\n",
        "  * Total number of experts $N$ is $1024^2$\n",
        "  * The number of active experts is $128$ for Dense, PEER and MOE and $256$ memories for PKM"
      ]
    },
    {
      "cell_type": "markdown",
      "id": "f2ce778b-b88f-481a-b266-2a322a9441c5",
      "metadata": {
        "id": "f2ce778b-b88f-481a-b266-2a322a9441c5"
      },
      "source": [
        "<img src=\"https://github.com/stavco9/moe-llm-presentation/blob/main/BatchNormTable.png?raw=1\" alt=\"BatchNormTable\" width=\"600\" height=\"600\">\n",
        "<img src=\"https://github.com/stavco9/moe-llm-presentation/blob/main/BatchNormGraph.png?raw=1\" alt=\"BatchNormGraph\" width=\"400\" height=\"400\">"
      ]
    },
    {
      "cell_type": "markdown",
      "id": "46cf2edd-b70a-433f-b810-d85a38fcf496",
      "metadata": {
        "id": "46cf2edd-b70a-433f-b810-d85a38fcf496"
      },
      "source": [
        "The following table and graph shows the perplexity per number of experts $N$ (In the graph the number of experts $N$ is $1M$) and using two scenarios:\n",
        "* With no query batch normalization\n",
        "* With query batch normalization\n",
        "\n",
        "These are the following details of experiments:\n",
        "* Dataset is $C4$\n",
        "* Model is PEER"
      ]
    },
    {
      "cell_type": "markdown",
      "id": "ee6b5ff6-5f7c-42fa-ace0-fc9eea195c76",
      "metadata": {
        "id": "ee6b5ff6-5f7c-42fa-ace0-fc9eea195c76"
      },
      "source": [
        "### 3.4 Hands-on examples"
      ]
    },
    {
      "cell_type": "markdown",
      "id": "01708c1d-443c-40b1-8c28-112c66e93112",
      "metadata": {
        "id": "01708c1d-443c-40b1-8c28-112c66e93112"
      },
      "source": [
        "-  Some hands on examples of basic peer layer implementation with the execution output in the notebook"
      ]
    },
    {
      "cell_type": "code",
      "execution_count": 59,
      "id": "c3a63e7d-904a-496b-a20f-0a7d0171ece7",
      "metadata": {
        "id": "c3a63e7d-904a-496b-a20f-0a7d0171ece7",
        "outputId": "e577ac6f-8c3e-4680-f801-1e2d88b4a83b",
        "colab": {
          "base_uri": "https://localhost:8080/"
        }
      },
      "outputs": [
        {
          "output_type": "stream",
          "name": "stdout",
          "text": [
            "Requirement already satisfied: datasets in /usr/local/lib/python3.11/dist-packages (3.6.0)\n",
            "Requirement already satisfied: filelock in /usr/local/lib/python3.11/dist-packages (from datasets) (3.17.0)\n",
            "Requirement already satisfied: numpy>=1.17 in /usr/local/lib/python3.11/dist-packages (from datasets) (1.26.4)\n",
            "Requirement already satisfied: pyarrow>=15.0.0 in /usr/local/lib/python3.11/dist-packages (from datasets) (18.1.0)\n",
            "Requirement already satisfied: dill<0.3.9,>=0.3.0 in /usr/local/lib/python3.11/dist-packages (from datasets) (0.3.8)\n",
            "Requirement already satisfied: pandas in /usr/local/lib/python3.11/dist-packages (from datasets) (2.2.2)\n",
            "Requirement already satisfied: requests>=2.32.2 in /usr/local/lib/python3.11/dist-packages (from datasets) (2.32.3)\n",
            "Requirement already satisfied: tqdm>=4.66.3 in /usr/local/lib/python3.11/dist-packages (from datasets) (4.67.1)\n",
            "Requirement already satisfied: xxhash in /usr/local/lib/python3.11/dist-packages (from datasets) (3.5.0)\n",
            "Requirement already satisfied: multiprocess<0.70.17 in /usr/local/lib/python3.11/dist-packages (from datasets) (0.70.16)\n",
            "Requirement already satisfied: fsspec<=2025.3.0,>=2023.1.0 in /usr/local/lib/python3.11/dist-packages (from fsspec[http]<=2025.3.0,>=2023.1.0->datasets) (2024.10.0)\n",
            "Requirement already satisfied: huggingface-hub>=0.24.0 in /usr/local/lib/python3.11/dist-packages (from datasets) (0.28.1)\n",
            "Requirement already satisfied: packaging in /usr/local/lib/python3.11/dist-packages (from datasets) (24.2)\n",
            "Requirement already satisfied: pyyaml>=5.1 in /usr/local/lib/python3.11/dist-packages (from datasets) (6.0.2)\n",
            "Requirement already satisfied: aiohttp!=4.0.0a0,!=4.0.0a1 in /usr/local/lib/python3.11/dist-packages (from fsspec[http]<=2025.3.0,>=2023.1.0->datasets) (3.11.13)\n",
            "Requirement already satisfied: typing-extensions>=3.7.4.3 in /usr/local/lib/python3.11/dist-packages (from huggingface-hub>=0.24.0->datasets) (4.12.2)\n",
            "Requirement already satisfied: charset-normalizer<4,>=2 in /usr/local/lib/python3.11/dist-packages (from requests>=2.32.2->datasets) (3.4.1)\n",
            "Requirement already satisfied: idna<4,>=2.5 in /usr/local/lib/python3.11/dist-packages (from requests>=2.32.2->datasets) (3.10)\n",
            "Requirement already satisfied: urllib3<3,>=1.21.1 in /usr/local/lib/python3.11/dist-packages (from requests>=2.32.2->datasets) (2.3.0)\n",
            "Requirement already satisfied: certifi>=2017.4.17 in /usr/local/lib/python3.11/dist-packages (from requests>=2.32.2->datasets) (2025.1.31)\n",
            "Requirement already satisfied: python-dateutil>=2.8.2 in /usr/local/lib/python3.11/dist-packages (from pandas->datasets) (2.8.2)\n",
            "Requirement already satisfied: pytz>=2020.1 in /usr/local/lib/python3.11/dist-packages (from pandas->datasets) (2025.1)\n",
            "Requirement already satisfied: tzdata>=2022.7 in /usr/local/lib/python3.11/dist-packages (from pandas->datasets) (2025.1)\n",
            "Requirement already satisfied: aiohappyeyeballs>=2.3.0 in /usr/local/lib/python3.11/dist-packages (from aiohttp!=4.0.0a0,!=4.0.0a1->fsspec[http]<=2025.3.0,>=2023.1.0->datasets) (2.4.6)\n",
            "Requirement already satisfied: aiosignal>=1.1.2 in /usr/local/lib/python3.11/dist-packages (from aiohttp!=4.0.0a0,!=4.0.0a1->fsspec[http]<=2025.3.0,>=2023.1.0->datasets) (1.3.2)\n",
            "Requirement already satisfied: attrs>=17.3.0 in /usr/local/lib/python3.11/dist-packages (from aiohttp!=4.0.0a0,!=4.0.0a1->fsspec[http]<=2025.3.0,>=2023.1.0->datasets) (25.1.0)\n",
            "Requirement already satisfied: frozenlist>=1.1.1 in /usr/local/lib/python3.11/dist-packages (from aiohttp!=4.0.0a0,!=4.0.0a1->fsspec[http]<=2025.3.0,>=2023.1.0->datasets) (1.5.0)\n",
            "Requirement already satisfied: multidict<7.0,>=4.5 in /usr/local/lib/python3.11/dist-packages (from aiohttp!=4.0.0a0,!=4.0.0a1->fsspec[http]<=2025.3.0,>=2023.1.0->datasets) (6.1.0)\n",
            "Requirement already satisfied: propcache>=0.2.0 in /usr/local/lib/python3.11/dist-packages (from aiohttp!=4.0.0a0,!=4.0.0a1->fsspec[http]<=2025.3.0,>=2023.1.0->datasets) (0.3.0)\n",
            "Requirement already satisfied: yarl<2.0,>=1.17.0 in /usr/local/lib/python3.11/dist-packages (from aiohttp!=4.0.0a0,!=4.0.0a1->fsspec[http]<=2025.3.0,>=2023.1.0->datasets) (1.18.3)\n",
            "Requirement already satisfied: six>=1.5 in /usr/local/lib/python3.11/dist-packages (from python-dateutil>=2.8.2->pandas->datasets) (1.17.0)\n",
            "Cloning into 'moe-llm-presentation'...\n",
            "remote: Enumerating objects: 105, done.\u001b[K\n",
            "remote: Counting objects: 100% (105/105), done.\u001b[K\n",
            "remote: Compressing objects: 100% (75/75), done.\u001b[K\n",
            "remote: Total 105 (delta 55), reused 76 (delta 28), pack-reused 0 (from 0)\u001b[K\n",
            "Receiving objects: 100% (105/105), 1.68 MiB | 26.41 MiB/s, done.\n",
            "Resolving deltas: 100% (55/55), done.\n",
            "/content/moe-llm-presentation/peer_main/moe-llm-presentation/peer_main/moe-llm-presentation/peer_main/moe-llm-presentation/peer_main/moe-llm-presentation/peer_main/moe-llm-presentation/peer_main/moe-llm-presentation/peer_main/moe-llm-presentation/peer_main/moe-llm-presentation/peer_main/moe-llm-presentation/peer_main/moe-llm-presentation/peer_main/moe-llm-presentation/peer_main/moe-llm-presentation/peer_main/moe-llm-presentation/peer_main/moe-llm-presentation/peer_main/moe-llm-presentation/peer_main\n",
            "total 508\n",
            "drwxr-xr-x 3 root root   4096 May 17 20:24 \u001b[0m\u001b[01;34m.\u001b[0m/\n",
            "drwxr-xr-x 4 root root   4096 May 17 20:24 \u001b[01;34m..\u001b[0m/\n",
            "-rw-r--r-- 1 root root   4588 May 17 20:24 main.py\n",
            "drwxr-xr-x 2 root root   4096 May 17 20:24 \u001b[01;34mpeer\u001b[0m/\n",
            "-rw-r--r-- 1 root root 491659 May 17 20:24 peer_arch.png\n",
            "-rw-r--r-- 1 root root   1434 May 17 20:24 README.md\n"
          ]
        }
      ],
      "source": [
        "!pip install datasets\n",
        "\n",
        "%rm -rf moe-llm-presentation\n",
        "!git clone https://github.com/stavco9/moe-llm-presentation\n",
        "%cd moe-llm-presentation/peer_main\n",
        "%ls -la"
      ]
    },
    {
      "cell_type": "code",
      "source": [
        "!cat peer/model.py"
      ],
      "metadata": {
        "id": "JSGVmi03AV84",
        "outputId": "1967eefa-54ac-491a-c048-3738d5dd6fe8",
        "colab": {
          "base_uri": "https://localhost:8080/"
        }
      },
      "id": "JSGVmi03AV84",
      "execution_count": 60,
      "outputs": [
        {
          "output_type": "stream",
          "name": "stdout",
          "text": [
            "import torch\n",
            "import torch.nn as nn\n",
            "import torch.nn.functional as F\n",
            "from datasets import load_dataset\n",
            "from torch.utils.data import Dataset, DataLoader\n",
            "from transformers import GPT2Tokenizer\n",
            "import math\n",
            "from einops import einsum\n",
            "from tqdm import tqdm \n",
            "from einops.layers.torch import Rearrange\n",
            "\n",
            "def exists(v):\n",
            "    return v is not None\n",
            "\n",
            "def default(v, d):\n",
            "    return v if exists(v) else d\n",
            "\n",
            "class RMSNorm(nn.Module):\n",
            "    def __init__(self, dim):\n",
            "        super().__init__()\n",
            "        self.scale = dim ** 0.5\n",
            "        self.gamma = nn.Parameter(torch.ones(dim))\n",
            "\n",
            "    def forward(self, x):\n",
            "        return F.normalize(x, dim=-1) * self.scale * self.gamma\n",
            "\n",
            "class ProductKeyMemory(nn.Module):\n",
            "    def __init__(self, dim, num_keys):\n",
            "        super().__init__()\n",
            "        self.dim = dim\n",
            "        self.num_keys = num_keys\n",
            "        self.keys = nn.Parameter(torch.randn(num_keys, dim // 2))\n",
            "        \n",
            "    def forward(self, query):\n",
            "        query = query.view(query.shape[0], 2, -1)\n",
            "        dots = torch.einsum('bkd,nd->bkn', query, self.keys)\n",
            "        return dots.view(query.shape[0], -1)\n",
            "\n",
            "class PEER(nn.Module):\n",
            "    def __init__(\n",
            "        self,\n",
            "        dim,\n",
            "        *,\n",
            "        heads=8,\n",
            "        num_experts=1_000_000,\n",
            "        num_experts_per_head=16,\n",
            "        activation=nn.GELU,\n",
            "        dim_key=None,\n",
            "        product_key_topk=None,\n",
            "        separate_embed_per_head=False,\n",
            "        pre_rmsnorm=False,\n",
            "        dropout=0.\n",
            "    ):\n",
            "        super().__init__()\n",
            "\n",
            "        self.norm = RMSNorm(dim) if pre_rmsnorm else nn.Identity()\n",
            "\n",
            "        self.heads = heads\n",
            "        self.separate_embed_per_head = separate_embed_per_head\n",
            "        self.num_experts = num_experts\n",
            "\n",
            "        num_expert_sets = heads if separate_embed_per_head else 1\n",
            "\n",
            "        self.weight_down_embed = nn.Embedding(num_experts * num_expert_sets, dim)\n",
            "        self.weight_up_embed = nn.Embedding(num_experts * num_expert_sets, dim)\n",
            "\n",
            "        self.activation = activation()\n",
            "\n",
            "        assert (num_experts ** 0.5).is_integer(), '`num_experts` needs to be a square'\n",
            "        assert (dim % 2) == 0, 'feature dimension should be divisible by 2'\n",
            "\n",
            "        dim_key = default(dim_key, dim // 2)\n",
            "        self.num_keys = int(num_experts ** 0.5)\n",
            "\n",
            "        self.to_queries = nn.Sequential(\n",
            "            nn.Linear(dim, dim_key * heads * 2, bias=False),\n",
            "            Rearrange('b n (p h d) -> p b n h d', p=2, h=heads)\n",
            "        )\n",
            "\n",
            "        self.product_key_topk = default(product_key_topk, num_experts_per_head)\n",
            "        self.num_experts_per_head = num_experts_per_head\n",
            "\n",
            "        self.keys = nn.Parameter(torch.randn(heads, self.num_keys, 2, dim_key))\n",
            "\n",
            "        self.dropout = nn.Dropout(dropout)\n",
            "\n",
            "    def forward(self, x):\n",
            "        x = self.norm(x)\n",
            "\n",
            "        queries = self.to_queries(x)\n",
            "\n",
            "        sim = einsum(queries, self.keys, 'p b n h d, h k p d -> p b n h k')\n",
            "\n",
            "        (scores_x, scores_y), (indices_x, indices_y) = [s.topk(self.product_key_topk, dim=-1) for s in sim]\n",
            "\n",
            "        all_scores = scores_x.unsqueeze(-1) + scores_y.unsqueeze(-2)\n",
            "        all_indices = indices_x.unsqueeze(-1) * self.num_keys + indices_y.unsqueeze(-2)\n",
            "\n",
            "        all_scores = all_scores.view(*all_scores.shape[:-2], -1)\n",
            "        all_indices = all_indices.view(*all_indices.shape[:-2], -1)\n",
            "\n",
            "        scores, pk_indices = all_scores.topk(self.num_experts_per_head, dim=-1)\n",
            "        indices = all_indices.gather(-1, pk_indices)\n",
            "\n",
            "        if self.separate_embed_per_head:\n",
            "            head_expert_offsets = torch.arange(self.heads, device=x.device) * self.num_experts\n",
            "            indices = indices + head_expert_offsets.view(1, 1, -1, 1)\n",
            "\n",
            "        weights_down = self.weight_down_embed(pk_indices)\n",
            "        weights_up = self.weight_up_embed(pk_indices)\n",
            "\n",
            "        x = einsum(x, weights_down, 'b n d, b n h k d -> b n h k')\n",
            "\n",
            "        x = self.activation(x)\n",
            "        x = self.dropout(x)\n",
            "\n",
            "        x = x * F.softmax(scores, dim=-1)\n",
            "\n",
            "        x = einsum(x, weights_up, 'b n h k, b n h k d -> b n d')\n",
            "\n",
            "        return x\n",
            "\n",
            "class TransformerBlock(nn.Module):\n",
            "    def __init__(self, dim, num_heads, num_experts, num_experts_per_head, dropout=0.1):\n",
            "        super(TransformerBlock, self).__init__()\n",
            "        \n",
            "        self.attention = nn.MultiheadAttention(dim, num_heads)\n",
            "        self.norm1 = nn.LayerNorm(dim)\n",
            "        self.norm2 = nn.LayerNorm(dim)\n",
            "        \n",
            "        self.peer1 = PEER(dim, heads=num_heads, num_experts=num_experts, num_experts_per_head=num_experts_per_head)\n",
            "        self.peer2 = PEER(dim, heads=num_heads, num_experts=num_experts, num_experts_per_head=num_experts_per_head)\n",
            "        \n",
            "        self.dropout = nn.Dropout(dropout)\n",
            "        \n",
            "    def forward(self, x):\n",
            "        attn_output, _ = self.attention(x, x, x)\n",
            "        x = x + self.dropout(attn_output)\n",
            "        x = self.norm1(x)\n",
            "        \n",
            "        peer_output1 = self.peer1(x)\n",
            "        peer_output2 = self.peer2(F.gelu(peer_output1))\n",
            "        x = x + self.dropout(peer_output2)\n",
            "        x = self.norm2(x)\n",
            "        \n",
            "        return x\n",
            "\n",
            "class PEERLanguageModel(nn.Module):\n",
            "    def __init__(self, vocab_size, dim, num_layers, num_heads, num_experts, top_k):\n",
            "        super().__init__()\n",
            "        self.token_embedding = nn.Embedding(vocab_size, dim)\n",
            "        self.position_embedding = nn.Embedding(512, dim)  \n",
            "        self.layers = nn.ModuleList([TransformerBlock(dim, num_heads, num_experts, top_k) for _ in range(num_layers)])\n",
            "        self.layer_norm = nn.LayerNorm(dim)\n",
            "        self.lm_head = nn.Linear(dim, vocab_size, bias=False)\n",
            "        \n",
            "    def forward(self, x):\n",
            "        b, s = x.shape\n",
            "        positions = torch.arange(s, device=x.device).unsqueeze(0).expand(b, s)\n",
            "        \n",
            "        x = self.token_embedding(x) + self.position_embedding(positions)\n",
            "        \n",
            "        for layer in self.layers:\n",
            "            x = layer(x)\n",
            "        \n",
            "        x = self.layer_norm(x)\n",
            "        logits = self.lm_head(x)\n",
            "        return logits"
          ]
        }
      ]
    },
    {
      "cell_type": "code",
      "source": [
        "import os\n",
        "\n",
        "os.environ['LOCAL_RANK'] = '0'\n",
        "os.environ['OMP_NUM_THREADS'] = '1'\n",
        "os.environ[\"PYTORCH_CUDA_ALLOC_CONF\"] = \"max_split_size_mb:8192\"\n",
        "\n",
        "# Hyperparameters\n",
        "vocab_size = 50257  # GPT-2 tokenizer vocab size\n",
        "dim = 64\n",
        "num_layers = 2\n",
        "num_heads = 4\n",
        "num_experts = 128 * 128\n",
        "top_k = 8\n",
        "batch_size = 6\n",
        "num_epochs = 10\n",
        "learning_rate = 1e-4\n",
        "dataset = 'Salesforce/wikitext'\n",
        "\n",
        "!torchrun --nproc_per_node=1 --nnodes=1 main.py --vocab-size={vocab_size} --dim={dim} \\\n",
        "  --num-layers={num_layers} --num-heads={num_heads} --num-experts={num_experts} --top-k={top_k} --batch-size={batch_size} \\\n",
        "  --num-epochs={num_epochs} --learning-rate={learning_rate} --dataset={dataset}"
      ],
      "metadata": {
        "id": "lEGeog9d9l66",
        "outputId": "0519a05c-3d47-4b84-ad9e-bc2fe0313528",
        "colab": {
          "base_uri": "https://localhost:8080/"
        }
      },
      "id": "lEGeog9d9l66",
      "execution_count": null,
      "outputs": [
        {
          "output_type": "stream",
          "name": "stdout",
          "text": [
            "{'vocab_size': '50257', 'dim': '64', 'num_layers': '2', 'num_heads': '4', 'num_experts': '16384', 'top_k': '8', 'batch_size': '6', 'num_epochs': '10', 'learning_rate': '0.0001', 'dataset': 'Salesforce/wikitext'}\n",
            "Loading pretrained GPT2 tokenizer transformer\n",
            "Finished loading pretrained GPT2 tokenizer transformer\n",
            "Initalizing PEER model\n",
            "Finished initalizing PEER model\n",
            "Loading datasets\n",
            "Finished loading datasets\n",
            "Number of parameters: 15084800\n",
            "Epoch Training 1/10\n",
            "  2% 1107/50000 [01:24<1:01:07, 13.33it/s]"
          ]
        }
      ]
    }
  ],
  "metadata": {
    "kernelspec": {
      "display_name": "Python 3",
      "name": "python3"
    },
    "language_info": {
      "name": "python"
    },
    "colab": {
      "provenance": [],
      "machine_shape": "hm",
      "gpuType": "T4",
      "include_colab_link": true
    },
    "accelerator": "GPU"
  },
  "nbformat": 4,
  "nbformat_minor": 5
}