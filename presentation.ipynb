{
 "cells": [
  {
   "cell_type": "markdown",
   "id": "135ae95f",
   "metadata": {
    "colab_type": "text",
    "id": "view-in-github"
   },
   "source": [
    "<a href=\"https://colab.research.google.com/github/stavco9/moe-llm-presentation/blob/main/presentation.ipynb\" target=\"_parent\"><img src=\"https://colab.research.google.com/assets/colab-badge.svg\" alt=\"Open In Colab\"/></a>"
   ]
  },
  {
   "cell_type": "markdown",
   "id": "28700274-faf1-4b4a-ba3c-159a77d81563",
   "metadata": {
    "id": "28700274-faf1-4b4a-ba3c-159a77d81563"
   },
   "source": [
    "# Mixture of experts Language Model presentation\n",
    "\n",
    "## Noam Delbari & Stav Cohen"
   ]
  },
  {
   "cell_type": "markdown",
   "id": "b88c93a4-e500-4480-a9fe-16e50791a9f6",
   "metadata": {
    "id": "b88c93a4-e500-4480-a9fe-16e50791a9f6"
   },
   "source": [
    "## 1 Background:"
   ]
  },
  {
   "cell_type": "markdown",
   "id": "08ed0608-413e-48b7-a512-3b3cc884ca26",
   "metadata": {},
   "source": [
    "### 1.1 Transformers"
   ]
  },
  {
   "cell_type": "markdown",
   "id": "fe019de3-0300-4285-9dcd-6182400f5e56",
   "metadata": {
    "id": "fe019de3-0300-4285-9dcd-6182400f5e56"
   },
   "source": [
    "A **Transformer** is an *encoder–decoder* sequence‑to‑sequence model that performs all its\n",
    "computation with stacked **self‑attention** layers and small position‑wise feed‑forward networks (FFNs),\n",
    "with **no recurrence or convolution**. This design lets every token interact with every other token in\n",
    "one parallelizable matrix operation, unlocking massive throughput on modern accelerators.\n",
    "\n",
    "###  Standard Transformer\n",
    "\n",
    "| Sub-layer | Inputs | Outputs | Purpose |\n",
    "|-----------|--------|---------|---------|\n",
    "| **Self-Attention** | A sequence of token embeddings $X\\!\\in\\!\\mathbb{R}^{L\\times d}$ | A new sequence $Z\\!\\in\\!\\mathbb{R}^{L\\times d}$ | Mix information across all positions using *scaled dot-product attention*. |\n",
    "| **Add + LayerNorm** | Residual input + sub-layer output | Normalised sum | Stabilise training and preserve gradients (residual path). |\n",
    "| **Feed-Forward Network (FFN)** | Each token independently | Transformed tokens | Non-linear feature expansion: two linear maps with GELU/ReLU in between. |\n",
    "| **Positional Encoding / Bias** | Token index | Vector added to embeddings or into attention logits | Inject order information, because plain attention is permutation-invariant. |\n",
    "\n",
    "> **Encoder stack** repeats: (Self-Attn → FFN) × N  \n",
    "> **Decoder stack** repeats: (Causal Self-Attn → Cross-Attn → FFN) × N\n",
    "\n",
    "\n",
    "<figure>\n",
    "  <img src=\"switch_plots/transformer.png\" width=\"300\"/>\n",
    "  <figcaption><b>Figure 1</b> – Transformer architecture.</figcaption>\n",
    "</figure>\n",
    "\n",
    "\n",
    "#### 1. Embedding Stage\n",
    "\n",
    "Raw word-pieces are mapped to $d$-dimensional vectors and receive a positional signal (either sinusoidal values or a learned bias).\n",
    "\n",
    "**Result:** “Naked” token embeddings that know their position but nothing yet about their neighbours.\n",
    "\n",
    "#### 2. Encoder Conveyor (× N layers)\n",
    "\n",
    "For *N* identical encoder layers the vectors ride through the same three-step processing loop:\n",
    "\n",
    "1. **Self-Attention**  \n",
    "   Every token points a spotlight at all other tokens, gathers a weighted sum of their features, and replaces its own vector with that mixture.  \n",
    "   Instantly injects **global context**—long-range dependencies can be captured in a single hop.\n",
    "\n",
    "2. **Residual & LayerNorm**  \n",
    "   Add the mixer’s output back to the original vector (so nothing is forgotten), then apply LayerNorm (so activations stay in a healthy range).\n",
    "\n",
    "3. **Feed-Forward Refiner**  \n",
    "   Apply a two-layer MLP with GELU/ReLU per token—no cross-token interaction.  \n",
    "   Acts as a non-linear feature transformer, increasing capacity.\n",
    "\n",
    "After a second residual+norm, the token moves to the next layer carrying both its original identity and all the context it just absorbed.\n",
    "\n",
    "> **Outcome:** After *N* laps, each encoder vector is a rich, position-aware summary of the entire source sentence. The tensor shape ($L \\times d$) never changes—only the **information content** inside each vector grows.\n",
    "\n",
    "#### 3. Decoder Conveyor (× N layers)\n",
    "\n",
    "The decoder also loops *N* times, but each layer adds a “side-road”:\n",
    "\n",
    "1. **Causal Self-Attention**  \n",
    "   Tokens attend only to positions $\\le t$ (auto-regressive).  \n",
    "   **Result:** each position knows everything generated so far, but not the future.\n",
    "\n",
    "2. **Residual & LayerNorm**\n",
    "\n",
    "3. **Cross-Attention Bridge**  \n",
    "   *Queries* = decoder state; *Keys/Values* = frozen encoder outputs.  \n",
    "   Aligns the partially generated target with relevant source content.\n",
    "\n",
    "4. **Residual & LayerNorm**\n",
    "\n",
    "5. **Feed-Forward Refiner**  \n",
    "   Same per-token MLP as in the encoder.\n",
    "\n",
    "> **Loop:** Tokens accrue context from both their left-hand history and the full source sentence over *N* layers.\n",
    "\n",
    "#### 4. Output Projection\n",
    "\n",
    "After the final decoder layer each vector passes through a shared linear map + softmax to produce a probability distribution over the next vocabulary token.\n",
    "\n",
    "- **Training:** use teacher forcing (ground-truth next token).  \n",
    "- **Inference:** sample or pick the top token and feed it back as the next input, advancing the conveyor.\n",
    "\n",
    "#### 5. The Big Picture\n",
    "\n",
    "- **Encoder:** builds a *bidirectional* representation of the source (Self-Attn + FFN).  \n",
    "- **Decoder:** generates the target *left-to-right*, consulting both its own history (causal Self-Attn) and the encoder (Cross-Attn).  \n",
    "- **Residual highways** keep gradients flowing; **LayerNorm** keeps scales stable; **Feed-Forward sub-nets** inject non-linearity.  \n",
    "- The tensor shape ($L \\times d$) stays constant; **contextual and abstract information** accumulates at each hop.\n",
    "\n",
    "> In **Switch Transformers** the only change is that the dense FFN sub-nets are replaced by a **Switch-FFN** (Mixture-of-Experts). The underlying conveyor-belt flow—attention mixers, residual paths, cross-attention bridge—remains exactly the classic Transformer structure.\n",
    "\n",
    "\n",
    "####   Why does it work  \n",
    "\n",
    "* **Parallelism** – all tokens processed simultaneously (unlike RNNs).  \n",
    "* **Long-range dependencies** – any token can attend to any other in one hop.  \n",
    "* **Expressiveness** – stacking layers lets the model build hierarchical features.  \n",
    "* **Speed** – matrix multiplications map well to GPUs/TPUs.\n",
    "\n",
    "\n",
    "---"
   ]
  },
  {
   "cell_type": "markdown",
   "id": "4b16ecc2-ad9d-4f1c-9bfe-788abe1f2d04",
   "metadata": {
    "id": "4b16ecc2-ad9d-4f1c-9bfe-788abe1f2d04"
   },
   "source": [
    "### 1.2 Mixture-of-Experts (MoE)"
   ]
  },
  {
   "cell_type": "markdown",
   "id": "2d106ada-a163-49f4-82af-ba3b2dd9bb2a",
   "metadata": {
    "id": "2d106ada-a163-49f4-82af-ba3b2dd9bb2a"
   },
   "source": [
    "1. ***What is an expert*** ?\n",
    "A small and specialized model which got trained for a particular area. It can be a neural network, decision tree, or other algorithm. In our case experts are small neural networks\n",
    "\n",
    "2. ***A Mixture of Experts (MoE) model***\n",
    "A model that combines the predictions of multiple experts to solve complex problems.\n",
    "- Each expert is trained on a specific domain or task, and a \"gating network\" or \"router\" selects the most appropriate experts for a given input.\n",
    "\n",
    "3. ***\"gating network\" / \"router\"***\n",
    "A component (a tiny linear layer) in the large model that determines which experts should be activated for a particular input. It's also trained along with the experts\n",
    "\n",
    "4. ***What do we achieve from that***\n",
    "The main benefit of the MoE architecture is that it enables large-scale models, even those comprising many billions of parameters, to reduce computation costs during pre-training and achieve faster performance during evaluation time.\n",
    "\n",
    "5. ***How does it work ?***\n",
    "It reaches it's major benefit by selectively activating only the specific experts needed for a given task, rather than activating the entire neural network for every task.\n",
    "\n",
    "6. ***An illustration of a standard MoE network***\n",
    "<img src=\"https://github.com/stavco9/moe-llm-presentation/blob/main/Peer_Layer.png?raw=1\" alt=\"Peer_Layer\" width=\"700\" height=\"700\">"
   ]
  },
  {
   "cell_type": "markdown",
   "id": "b9e70a8c-89fa-4649-83ba-0e205befe346",
   "metadata": {
    "id": "b9e70a8c-89fa-4649-83ba-0e205befe346"
   },
   "source": [
    "## 2 Switch transformer"
   ]
  },
  {
   "cell_type": "markdown",
   "id": "1f1d7d88",
   "metadata": {},
   "source": [
    "## 2.1 Introduction:\n",
    "\n",
    "Large language models (LLMs) have achieved striking gains by growing from millions\n",
    "to billions of parameters—yet *dense* scaling makes **every** parameter participate\n",
    "in **every** forward-pass.  \n",
    "Compute (FLOPs), memory traffic, and wall-time therefore grow linearly with model\n",
    "size, and the trillion-parameter frontier strains even the largest clusters.\n",
    "\n",
    "**Mixture-of-Experts (MoE)** layers offer a different path: *conditional\n",
    "computation*.  \n",
    "A lightweight *gating network* selects **one** or **few** specialized “experts”\n",
    "(MLPs) per token, so only a *subset* of parameters is active each step.\n",
    "Switch Transformers (Fedus *et&nbsp;al.*, 2022) refine this idea to make it practical\n",
    "at unprecedented scale.\n",
    "\n",
    "### Why previous MoE attempts struggled  \n",
    "\n",
    "| Bottleneck in earlier MoE work | What it means | Switch Transformer’s remedy |\n",
    "| :-- | :-- | :-- |\n",
    "| **Unstable top-k routing** (k > 1) | When every token is split across *k* experts (k = 2,4…), the soft mixture may starve some experts of gradient signal → divergence in very deep models. | **k = 1 “switch” routing**: each token is sent to exactly one expert chosen by `argmax` over gate logits. This keeps gradients intact and halves the routing tensor size. |\n",
    "| **Cross-device communication** | Prior systems sliced *one* expert across many GPUs/TPUs → every step required an All-to-All of hidden states. | **Expert-parallel layout**: each device *owns* one whole expert. Tokens are grouped by destination expert, transferred *once*, processed locally, then regrouped—minimising traffic. |\n",
    "| **Token imbalance (hot-spot experts)** | Popular tokens (e.g., punctuation) can overload a few experts, leaving others idle and blowing up memory. | **Auxiliary load-balancing loss**: penalises correlation between (i) fraction of tokens routed to expert *i* and (ii) gate probability mass on expert *i*.  <br>$$ L_{\\text{aux}} = \\alpha\\,N \\sum_{i=1}^{N} f_i\\,P_i \\quad\\text{(Eq.\\;4)} $$ |\n",
    "\n",
    "*Definitions*  \n",
    "* **Expert** – an independent feed-forward sub-network (here, a position-wise MLP).  \n",
    "* **Gating network** – a tiny linear layer that produces *N* logits per token.  \n",
    "* **Routing** – assigning tokens to experts based on gate probabilities.  \n",
    "* **FLOPs / token** – floating-point operations needed for one token’s forward-pass.\n",
    "\n",
    "---\n",
    "\n",
    "### Research Questions\n",
    "\n",
    "This paper explicitly addresses several critical research questions:\n",
    "\n",
    "1. **Efficiency vs. Model Capacity:**  \n",
    "   *Does increasing model size through sparse routing (more experts) consistently improve language model performance (perplexity) without proportional computational cost?*\n",
    "\n",
    "2. **Training Stability:**  \n",
    "   *Can models at trillion-parameter scale be stably trained using lower-precision arithmetic (like bfloat16)?*\n",
    "\n",
    "3. **Downstream Generalization:**  \n",
    "   *Do improvements obtained during language modeling pre-training generalize to downstream tasks (e.g., QA, summarization)?*\n",
    "\n",
    "4. **Model Compression and Deployment:**  \n",
    "   *Is it feasible to distill sparse models into smaller, dense models while preserving performance improvements?*\n",
    "\n",
    "---\n"
   ]
  },
  {
   "cell_type": "markdown",
   "id": "eff624e5",
   "metadata": {},
   "source": [
    "## 2.2 High-level Structure  \n",
    "\n",
    "A Switch Transformer layer is identical to a standard Transformer block **except** that the\n",
    "dense Feed-Forward Network (FFN) is replaced by a **Switch-FFN** (sparse Mixture-of-Experts).  \n",
    "Figure 2 from the paper illustrates the encoder block with two example tokens (${x_1,x_2}$).  \n",
    "Only the shaded *Switch-FFN* (light-blue) differs from a dense model.  :contentReference[oaicite:1]{index=1}\n",
    "\n",
    "<figure>\n",
    "  <img src=\"switch_plots/figure2_switch_arch.png\" width=\"600\"/>\n",
    "  <figcaption><b>Figure 2</b> – Switch-FFN inside the Transformer block (Fedus et al., 2022).</figcaption>\n",
    "</figure>\n",
    "\n",
    "\n",
    "\n",
    "| Component | Role |\n",
    "| :-- | :-- |\n",
    "| **Self-Attention** | Context mixing (unchanged). |\n",
    "| **Router** | Lightweight linear layer that decides **which expert** handles each token. |\n",
    "| **N Experts** | Independent MLPs (usually GELU) with identical shapes but **distinct parameters**. |\n",
    "| **Load-Balancing Loss** | Keeps traffic roughly uniform across experts. |\n"
   ]
  },
  {
   "cell_type": "markdown",
   "id": "7dbb742a",
   "metadata": {},
   "source": [
    "## 2.3 Routing & Gating Mechanism\n",
    "\n",
    "### **Overview**\n",
    "\n",
    "The critical innovation of **Switch Transformers** lies in the routing mechanism—specifically, how each token dynamically selects exactly one expert out of several available experts (MLPs). This approach dramatically reduces computational overhead while allowing massive scaling in model size.\n",
    "\n",
    "\n",
    "### **Router Inputs**\n",
    "\n",
    "Each Transformer layer typically consists of Self-Attention followed by Layer Normalization (LayerNorm). In a standard Transformer, the resulting hidden state would directly enter a dense Feed-Forward Network (FFN).\n",
    "\n",
    "In **Switch Transformers**, the router receives the **same hidden state**—specifically, the output embedding after the Self-Attention block and LayerNorm step: $\\mathbf{x} \\in \\mathbb{R}^{d_{\\text{model}}}$\n",
    "\n",
    "Here, $ d_{\\text{model}} $ denotes the embedding dimensionality.\n",
    "\n",
    "The router input is thus fully contextualized at the token level but does not depend directly on other tokens' routing decisions, which allows independent per-token routing computations.\n",
    "\n",
    "### **Routing Computation**\n",
    "\n",
    "The routing mechanism is computed as follows:\n",
    "\n",
    "**Step-by-Step:**\n",
    "\n",
    "1. **Router Projection (Compute logits)**\n",
    "\n",
    "The router projects the token representation into a space of dimension equal to the number of experts \\( N \\):\n",
    "\n",
    "$$\n",
    "h_i(\\mathbf{x}) = \\mathbf{w}_i^\\top\\mathbf{x} + b_i,\\quad \\forall i\\in\\{1,\\dots,N\\}\n",
    "$$\n",
    "\n",
    "Each expert has its own set of weights $ \\mathbf{w}_i \\in \\mathbb{R}^{d_{\\text{model}}} $ and biases $ b_i $.\n",
    "\n",
    "2. **Softmax Normalization**\n",
    "\n",
    "The logits are normalized via softmax to form a probability distribution over the experts:\n",
    "\n",
    "$$\n",
    "p_i(\\mathbf{x}) = \\frac{\\exp(h_i(\\mathbf{x}))}{\\sum_{j=1}^{N}\\exp(h_j(\\mathbf{x}))}\n",
    "$$\n",
    "\n",
    "3. **Jitter Addition (Exploration Noise)**\n",
    "\n",
    "A small uniform noise (\"jitter\") is added during training to encourage exploration of different routing decisions and prevent early convergence (collapse):\n",
    "\n",
    "$$\n",
    "\\tilde{p}_i(\\mathbf{x}) = p_i(\\mathbf{x}) + \\epsilon,\\quad \\epsilon\\sim\\mathcal{U}(0,10^{-2})\n",
    "$$\n",
    "\n",
    "4. **Top-1 Selection**\n",
    "\n",
    "The Switch Transformer chooses exactly **one expert** per token (top-1 selection):\n",
    "\n",
    "$$\n",
    "i^{\\star} = \\arg\\max_{i}\\tilde{p}_i(\\mathbf{x})\n",
    "$$\n",
    "\n",
    "5. **Expert Processing**\n",
    "\n",
    "The selected expert (MLP) processes the token embedding:\n",
    "\n",
    "$$\n",
    "\\mathbf{e} = E_{i^{\\star}}(\\mathbf{x})\n",
    "$$\n",
    "\n",
    "Each expert $E_i$ is a two-layer MLP with GELU activation, independent parameters, and identical structure across experts.\n",
    "\n",
    "6. **Gate-weighted Output**\n",
    "\n",
    "The output from the expert is multiplied by the original gate probability (without jitter) to keep the routing decision differentiable and allow gradient flow through the router:\n",
    "\n",
    "$$\n",
    "\\mathbf{y} = p_{i^{\\star}}(\\mathbf{x})\\,\\mathbf{e}\n",
    "$$\n",
    "\n",
    "This operation, known as a \"straight-through estimator,\" ensures smooth training despite discrete expert selection.\n",
    "\n",
    "\n",
    "### **Capacity and Hard Limit**\n",
    "\n",
    "<figure>\n",
    "  <img src=\"switch_plots/figure3_capacity_dynamics.png\" width=\"650\"/>\n",
    "  <figcaption><b>Figure 3 — Token-routing dynamics under two capacity factors.</b></figcaption>\n",
    "</figure>\n",
    "\n",
    "**What the diagram shows**\n",
    "\n",
    "*Left panel (capacity 1.0)*  \n",
    "* 12 tokens must be routed across three experts (rows).  \n",
    "* Each expert’s capacity is exactly the ideal load \\(B/N = 4\\) tokens.  \n",
    "* Because many tokens happen to share the same favourite expert, that expert\n",
    "  overflows — the dotted red boxes show the **dropped** tokens that will bypass\n",
    "  this layer.\n",
    "\n",
    "*Right panel (capacity 1.5)*  \n",
    "* The capacity per expert is now \\(4 \\times 1.5 = 6\\) tokens, giving 50 % slack.  \n",
    "* All 12 tokens fit; no red overflow boxes, but a few **empty white slots** indicate\n",
    "  wasted compute/communication.\n",
    "\n",
    "**Take-away** A small slack margin (the paper standardises on 1.25) almost\n",
    "eliminates overflows yet keeps extra FLOPs and bandwidth modest.  Capacity is\n",
    "therefore the runtime *circuit-breaker* that guarantees fixed memory and latency\n",
    "even when the router’s token-to-expert distribution is skewed.\n",
    "\n",
    "**Why does capacity matter?**\n",
    "\n",
    "Routing decisions can lead to unbalanced token assignments, with some experts overloaded while others remain underutilized. Without mitigation, overloaded experts would cause out-of-memory errors, degraded performance, and unpredictable latency.\n",
    "\n",
    "Switch Transformer addresses this via a **hard capacity limit** on each expert:\n",
    "\n",
    "$$\n",
    "\\text{capacity per expert} = \\left\\lceil \\frac{B}{N} \\times \\text{capacity\\_factor} \\right\\rceil\n",
    "$$\n",
    "\n",
    "- $ B $: Total number of tokens in the micro-batch\n",
    "- $ N $: Number of experts\n",
    "- $\\text{capacity\\_factor}$: Typically set to $1.25$\n",
    "\n",
    "### **Load-Balancing Losses**\n",
    "\n",
    "Early attempts at Mixture-of-Experts models encountered a critical problem known as **expert collapse**, where a small number of experts dominated token assignments, starving others of training signal. Switch Transformers introduced two auxiliary losses to prevent collapse and encourage balanced expert usage:\n",
    "\n",
    "#### 1. **Auxiliary Load-Balancing Loss**\n",
    "\n",
    "$$\n",
    "L_{\\text{aux}} = \\alpha N \\sum_{i=1}^{N} f_i P_i,\\quad\n",
    "f_i = \\frac{\\text{tokens routed to expert } i}{\\text{batch size}},\\quad\n",
    "P_i = \\text{average gate probability for expert } i\n",
    "$$\n",
    "\n",
    "**Intuition:**  \n",
    "- Encourages even token distribution by penalizing high correlation between an expert’s frequency of selection and router confidence.\n",
    "- If an expert is frequently chosen and with high confidence, the loss increases, nudging the model to utilize other experts more evenly.\n",
    "\n",
    "#### 2. **Z-Loss (Logit Regularization)**\n",
    "\n",
    "$$\n",
    "L_z = \\beta \\sum_{\\text{tokens}}\\sum_{i}(h_i - \\text{stop\\_grad}(h_i))^2\n",
    "$$\n",
    "\n",
    "**Intuition:**  \n",
    "- Encourages router logits $h_i$ to remain small in magnitude, preventing overly confident selections (extremely large or small logits can destabilize softmax distributions).\n",
    "- Maintains stable gradient flow and well-conditioned router softmax.\n",
    "\n",
    "**Effectiveness:**\n",
    "- These combined losses improve expert utilization entropy, reduce gradient variance across experts, accelerate training convergence, and improve overall training stability.\n",
    "- Compared to earlier MoE methods, these light-weight auxiliary losses significantly improve model scalability and robustness with minimal computational overhead.\n"
   ]
  },
  {
   "cell_type": "markdown",
   "id": "07b5d1b9",
   "metadata": {},
   "source": [
    "## 2.4  “Towards Trillion-Parameter Models”  \n",
    "\n",
    "**Goal**  \n",
    "Demonstrate that the Switch-Transformer recipe can be pushed two orders of magnitude beyond the 26 B-param “Large” model, into the *hundreds-of-billions* and *trillion* range, **without exploding compute per token** and while remaining trainable on today’s hardware.\n",
    "\n",
    "####  Parallelism Blueprint  \n",
    "\n",
    "To fit and feed models that big, the authors layer three kinds of parallelism:\n",
    "\n",
    "* **Data parallelism** – duplicates the entire model across many devices; cheap but multiplies the activation-update bandwidth.\n",
    "* **Model (tensor) parallelism** – splits individual weight matrices across devices; adds intra-layer communication every step.\n",
    "* **Expert (Mixture) parallelism** – puts different experts on different devices and ships only the tokens that need them; communication is an All-to-All once per MoE layer.\n",
    "\n",
    "The **sweet spot** is a *hybrid*:  \n",
    "> *Data ∥ Model ∥ Expert* — balance memory, FLOPs, and bandwidth so no single axis bottlenecks first.\n",
    "\n",
    "####  Concrete Mega-Models\n",
    "\n",
    "| Model | Params | Experts / layer | Devices & layout | FLOPs / sequence |\n",
    "|-------|--------|-----------------|------------------|------------------|\n",
    "| **Switch-XXL** | 395 B | 64 | 2048 TPU v3 cores, D×M×E = 8×8×4 | 6.3 T |\n",
    "| **Switch-C**   | 1.6 T | 128 | 2048 TPU v3 cores, D×M×E = 8×8×32 | 0.89 T |\n",
    "\n",
    "*Switch-C* spends **~7× fewer FLOPs per sequence** than T5-XXL while owning ~150× more parameters, because only one expert runs per token.\n",
    "\n",
    "####  Training Behaviour\n",
    "\n",
    "* **395 B & 1.6 T models converge stably** with bf16 + router-fp32.  \n",
    "* At 250 k steps on C4 (≈ 20 B tokens) both sparse giants already beat T5-XXL’s perplexity; the gap widens by 500 k steps.  \n",
    "* **Switch-C reaches target quality 4 × faster** than T5-XXL for the same compute budget.\n",
    "\n",
    "Occasional instability (loss spikes) appears in the higher-FLOP Switch-XXL, highlighting the importance of the lower-FLOP design of Switch-C.\n",
    "\n",
    "####  Early Down-Stream Signals  \n",
    "\n",
    "A partially-trained Switch-XXL, fine-tuned on knowledge-heavy tasks, outperforms T5-XXL on closed-book QS benchmarks (Natural Questions, TriviaQA, Web Questions).  \n",
    "Reasoning-heavy sets (SQuAD2, SuperGLUE) are on par—suggesting more training or tailored hyper-params may be needed there.\n",
    "\n",
    "####  Key Lessons  \n",
    "\n",
    "1. **Mixture-of-Experts + hybrid parallelism unlocks trillion-parameter scale** without proportionally increasing per-token compute.  \n",
    "2. **Hardware efficiency matters more than raw parameter count**: Switch-C (1.6 T, lower FLOPs) trains faster and more stably than a naïvely larger-FLOP variant.  \n",
    "3. **Upstream gains still translate**—especially on knowledge-centric tasks—confirming that sparse giants learn useful representations, not just memorisation.  \n",
    "\n",
    "These results provide the first concrete roadmap to practical *trillion-parameter* language models on contemporary TPU/GPU clusters.\n"
   ]
  },
  {
   "cell_type": "markdown",
   "id": "28a96b60",
   "metadata": {},
   "source": [
    "## 2.5 Experiments & Results\n",
    "### Baseline Models Used for Comparison  \n",
    "\n",
    "The authors selected **four families** of comparison models, each serving a distinct purpose.\n",
    "\n",
    "####   Dense T5 Series – \n",
    "**T5** stands for **“Text-to-Text Transfer Transformer.”**  \n",
    "Released by Google in late 2019, it introduced a simple yet powerful idea: *cast every NLP task—translation, summarisation, QA, sentiment, …—as feeding one piece of text in and predicting another piece of text out.*  \n",
    "This unification plus large-scale span-corruption pre-training on the **C4** web corpus produced a strong encoder–decoder baseline.\n",
    "\n",
    "**Why the authors picked T5:**\n",
    "\n",
    "1. **Like-for-like objective and codebase** – eliminates spurious gains from task formulation or optimiser tweaks.  \n",
    "2. **Widely reported benchmarks** – GLUE / SuperGLUE / SQuAD scores for T5 are standard yard-sticks, so improvements are easy to contextualise.  \n",
    "3. **Scales up smoothly** – letting the paper test whether sparse scaling beats a dense model simply made *bigger* (e.g., T5-Large or T5-XXL).\n",
    "\n",
    "Thus, throughout the experiments T5 provides a **clean, well-understood dense baseline** against which the efficiency and quality of the Switch (sparse) approach can be judged.\n",
    "\n",
    "\n",
    "| Model | Params | FLOPs / token | Why chosen |\n",
    "|-------|--------|--------------|-----------|\n",
    "| **T5-Base** | 223 M | 1 × (reference) | Same size class as 2-expert Switch; establishes a dense baseline that already fits on a single TPU/GPU. |\n",
    "| **T5-Large** | 739 M | 3.5 × Switch-Base | Represents a “scale-up dense” strategy within the same architecture and codebase. |\n",
    "| **T5-XXL** | 11 B | 6.3 T per seq | State-of-the-art dense model at publication time; tests whether sparse can outpace *very* large dense models under the same cluster budget. |\n",
    "\n",
    "*Rationale* – All T5 variants share the *exact* training objective, tokenizer, and optimizer code. That isolates the effect of **conditional vs dense compute**.\n",
    "\n",
    "####   MoE Transformer (Top-2 Routing) – \n",
    "\n",
    "| Variant | Experts | Routing | Why chosen |\n",
    "|---------|---------|---------|-----------|\n",
    "| **MoE-Transformer (Shazeer et al.)** | 128 | top-2 | Prevailing MoE design before Switch; higher FLOPs because two experts fire per token. |\n",
    "\n",
    "*Rationale* – Validates whether **single-expert** routing is genuinely more efficient/stable than the established top-k approach.\n",
    "\n",
    "#### Why these baselines are fair  \n",
    "\n",
    "* **Same tokenizer and data** → eliminates corpus effects.  \n",
    "* **Same optimizer hyper-params** (where feasible) → isolates architectural difference.  \n",
    "* **FLOP-matched pairs** (Switch-Base vs T5-Base, Switch-Large vs T5-Large) → asks:  \n",
    "  > *“Given the **same compute budget**, which architecture learns faster / better?”*  \n",
    "* **Higher-FLOP dense models** (T5-Large, -XXL) → test the critique  \n",
    "  > *“Just spend more FLOPs on dense; why bother with sparsity?”*  \n",
    "* **Legacy MoE top-2** → ensures the improvement isn’t merely “MoE vs dense” but due to the **Switch simplification**.\n",
    "\n",
    "Using this spectrum of baselines, the paper demonstrates that Switch Transformers outperform:\n",
    "\n",
    "1. **Compute-matched dense** models (fair efficiency test),  \n",
    "2. **Heavier dense** models (efficiency-vs-quality frontier), and  \n",
    "3. **Previous sparse** architectures (methodological advance).\n",
    "\n",
    "This comprehensive baseline suite strengthens the claim that **conditional compute via single-expert routing is a superior scaling path**.\n",
    "\n",
    "###  Scaling Properties \n",
    "The paper’s **Scaling Properties** section asks:  \n",
    "> *“If we keep FLOPs / token roughly constant, how far can we improve quality by adding more experts (i.e., more parameters)?”*  \n",
    "\n",
    "To answer, the authors run three tightly-controlled experiments.\n",
    "\n",
    "####  Step-Basis Scaling\n",
    "\n",
    "<figure>\n",
    "  <img src=\"switch_plots/figure_4_step_basis_scaling.png\" width=\"600\"/>\n",
    "  <figcaption><b>Figure: Scaling Switch Transformer (perplexity vs. training steps and wall-clock).</b></figcaption>\n",
    "</figure>\n",
    "\n",
    "\n",
    "\n",
    "| | |\n",
    "|---|---|\n",
    "| **Setup** | Pre-train **Switch-Base** models with 2 → 256 experts (223 M → 14.7 B parameters) **for a fixed 100 k steps**. FLOPs/token stay constant because each token still activates one expert. |\n",
    "| **Purpose** | Is parameter-only scaling (via experts) a free win when compute is fixed? |\n",
    "| **Main results** | Perplexity **drops monotonically** as experts double. The 64-expert model matches T5-Base quality **7.5 × sooner** in steps. |\n",
    "| **Interpretation** | Extra capacity (parameters) is effectively used even though compute is unchanged. Sparse routing is therefore a *new scaling axis* orthogonal to FLOPs. |\n",
    "\n",
    "####  Time-Basis Scaling\n",
    "\n",
    "<figure>\n",
    "  <img src=\"switch_plots/figure_5_time_basis_scaling.png\" width=\"300\"/>\n",
    "  <figcaption><b>Figure: Scaling Switch Transformer (perplexity vs. training time and wall-clock).</b></figcaption>\n",
    "</figure>\n",
    "\n",
    "\n",
    "| | |\n",
    "|---|---|\n",
    "| **Setup** | Measure **wall-clock minutes** to reach target perplexities on identical TPU pods. Same model family as above. |\n",
    "| **Purpose** | Extra experts add routing overhead (softmax, All-to-All). Do they erase the step advantage? |\n",
    "| **Main results** | Sparse models *still* win: 64-expert Switch reaches T5-Base quality in **≈ 140 min vs 350 min** (≈ 2.5× faster). |\n",
    "| **Conclusion** | Routing + communication overhead is small relative to the gains from parameter scaling. Sparse models give **real-time savings**, not just step savings. |\n",
    "\n",
    "---\n",
    "\n",
    "\n",
    "####  Sparse vs. “Just Make the Dense Model Bigger”\n",
    "\n",
    "<figure>\n",
    "  <img src=\"switch_plots/figure_6_parameters_basis_scaling.png\" width=\"600\"/>\n",
    "  <figcaption><b>Figure: Sample Efficiency Switch Transformer VS T5 variants.</b></figcaption>\n",
    "</figure>\n",
    "\n",
    "\n",
    "| | |\n",
    "|---|---|\n",
    "| **Setup** | Compare **Switch-Base (64 e)** against **T5-Large** which spends **3.5× more FLOPs/token** than Switch-Base. |\n",
    "| **Purpose** | Critics could argue “dense scaling already works—just spend more FLOPs.” |\n",
    "| **Main results** | Despite T5-Large’s heavier compute, Switch-Base is **2.5× faster** to the same perplexity and *still* ends lower. |\n",
    "| **Conclusion** | Conditional computation **dominates** naive dense scaling in the speed/quality trade-off. You can’t buy the same improvement just by burning more FLOPs per token. |\n",
    "\n",
    "---\n"
   ]
  },
  {
   "cell_type": "markdown",
   "id": "4759c905",
   "metadata": {},
   "source": [
    "###  Down-Stream Experiments\n",
    "\n",
    "The authors performed five focused studies to verify that the pre-training gains of Switch Transformers **transfer** to real tasks and to understand how best to fine-tune, regularise, and deploy very large sparse models.\n",
    "\n",
    "\n",
    "####  Fine-Tuning Benchmark Suite\n",
    "\n",
    "<figure>\n",
    "  <img src=\"table_5_fine_tuning_results.png\" width=\"400\"/>\n",
    "  <figcaption><b>Table: Fine-tuning results. T5 baselines VS Switch models across\n",
    "  a diverse set of natural language test.</b></figcaption>\n",
    "</figure>\n",
    "\n",
    "\n",
    "- **GLUE —** A bundle of nine sentence‐level and sentence-pair evaluations (sentiment, paraphrase, natural-language inference, etc.) that together gauge broad language understanding in English.\n",
    "\n",
    "- **SuperGLUE —** A harder successor to GLUE featuring multi-sentence reasoning tasks such as BoolQ, ReCoRD, and WSC; designed to test deeper compositional reasoning and commonsense.\n",
    "\n",
    "- **SQuAD v1.1 —** Reading-comprehension question answering on Wikipedia passages; checks the model’s ability to locate and extract exact answer spans from context.\n",
    "\n",
    "- **XSum —** Single-sentence abstractive news summarisation; evaluates whether the system can condense an article into one concise, fluent sentence while preserving key facts.\n",
    "\n",
    "- **Winogrande —** Commonsense pronoun-resolution puzzles; measures the model’s grasp of implicit world knowledge needed to resolve ambiguous references.\n",
    "\n",
    "- **TriviaQA (closed-book) —** Open-domain factoid QA answered without external documents; probes how much factual knowledge is stored internally in the model’s parameters.\n",
    "\n",
    "- **ANLI —** Adversarial natural-language inference collected via model-in-the-loop annotation; assesses robustness to deliberately tricky NLI examples.\n",
    "\n",
    "- **ARC (Easy & Challenge) —** Multiple-choice grade-school science-exam questions; tests logical reasoning over short factual statements rather than surface pattern matching.\n",
    "\n",
    "\n",
    "\n",
    "| | |\n",
    "|---|---|\n",
    "| **Setup** | Fine-tuned FLOP-matched pairs: **Switch-Base (7 B) vs T5-Base (0.2 B)** and **Switch-Large (26 B) vs T5-Large (0.7 B)** on GLUE, SuperGLUE, SQuAD, XSum, Winogrande, TriviaQA, ANLI, ARC. Dropout: 0.1 non-expert, 0.4 expert; 100 k training steps. |\n",
    "| **Purpose** | Confirm that sparse pre-training advantages appear on diverse NLU, QA, and summarisation tasks. |\n",
    "| **Main results** | • **+4.4 pp SuperGLUE** (Base) and +2 pp (Large).<br>• Closed-book TriviaQA +6 pp.<br>• Gains on Winogrande, XSum; mixed on ARC. |\n",
    "| **Conclusion** | Pre-training gains **transfer broadly**; sparse capacity especially helps knowledge-heavy tasks. |\n",
    "\n",
    "####  Distillation for Deployment\n",
    "\n",
    "##### How knowledge distillation works in general  \n",
    "\n",
    "1. **Run the teacher** – pass each input through the (large) teacher model  \n",
    "   * obtain either the **logits** $z^{(T)}$ or the softened probabilities  \n",
    "     $\\sigma(z^{(T)}/T)$ at temperature $T>1$.\n",
    "\n",
    "2. **Run the student** – pass the *same* input through the small model  \n",
    "   to produce logits $z^{(S)}$.\n",
    "\n",
    "3. **Blend two losses**\n",
    "\n",
    "$$\n",
    "\\mathcal{L}\n",
    "  = \\lambda \\; \\underbrace{\\mathrm{KL}\\!\\bigl[\\sigma(z^{(T)}/T)\\;\\|\\;\\sigma(z^{(S)}/T)\\bigr]}_{\\text{soft-target loss}}\n",
    "  + (1-\\lambda)\\; \\underbrace{\\mathrm{CE}\\!\\bigl[y,\\;\\sigma(z^{(S)})\\bigr]}_{\\text{hard-target loss}}\n",
    "$$\n",
    "\n",
    "* $y$ – ground-truth labels  \n",
    "* $\\sigma$ – softmax  \n",
    "* $\\lambda$ – weight that trades off “mimic the teacher” vs. “fit the labels”  \n",
    "* Back-propagate **only through the student**; the teacher is frozen.\n",
    "\n",
    "4. **Optimise the student** until validation perplexity or task metric plateaus.  \n",
    "   The student thus learns a compressed approximation of the teacher’s behaviour\n",
    "   while still respecting the original task labels.\n",
    "\n",
    "\n",
    "##### Switch-Transformer distillation  \n",
    "\n",
    "* **Teacher models** – sparse Switch-Base variants  \n",
    "  * 3.8 B , 7.4 B , 14.7 B parameters (64 or 128 experts)  \n",
    "  * already pre-trained on C4; one run fine-tuned on SuperGLUE.\n",
    "\n",
    "* **Student model** – dense T5-Base, 223 M parameters.\n",
    "\n",
    "* **Weight initialisation** – copy all **non-expert weights** (embeddings, attention,\n",
    "  residual projections) from teacher to student; randomly init the rest.\n",
    "\n",
    "* **Soft / hard mix** –  \n",
    "  $\\lambda = 0.25$ for the soft-target KL term, $1-\\lambda = 0.75$ for the standard cross-entropy.\n",
    "\n",
    "* **Temperature** – $T = 2.0$ to soften the teacher’s probability distribution.\n",
    "\n",
    "* **Training data & length** –  \n",
    "  * C4 span-corruption for language modelling distillation (150 k steps).  \n",
    "  * SuperGLUE labelled set for task-specific distillation (same step budget).\n",
    "\n",
    "* **Optimiser & schedule** – identical Adafactor settings used in pre-training; no extra tricks.\n",
    "\n",
    "* **Outcome** – student keeps **≈30 %** of the teacher’s quality gain while shrinking\n",
    "  model size by **95–99 %**, demonstrating a deployable path for Switch-Transformer\n",
    "  knowledge.\n",
    "\n",
    "\n",
    "<figure>\n",
    "  <img src=\"switch_plots/table_6_distillition.png\" width=\"400\"/>\n",
    "  <figcaption><b>Table: Fine-tuning results. T5 baselines VS Switch models across\n",
    "  a diverse set of natural language test.</b></figcaption>\n",
    "</figure>\n",
    "\n",
    "\n",
    "| | |\n",
    "|---|---|\n",
    "| **What was done** | Distilled sparse **Switch-Base 3.8 B / 7.4 B / 14.7 B** teachers into a 223 M dense T5-Base student. Tricks: initialise student with teacher’s non-expert weights + 0.25 × soft-loss + 0.75 × hard-loss. |\n",
    "| **Why** | Massive trillion-parameter models are hard to deploy; distillation offers a lighter alternative. |\n",
    "| **Main results** | • **≈ 30 % of teacher gain retained** at 95–99 % compression.<br>• Fine-tuned SuperGLUE distillation keeps 30 % gain on a 97 % compressed model. |\n",
    "| **Interpretation** | Distillation provides a **practical path** from huge sparse teachers to deployable dense students while preserving a meaningful slice of quality improvement. |\n",
    "\n",
    "\n",
    "---\n",
    "\n"
   ]
  },
  {
   "cell_type": "markdown",
   "id": "ea3c02a4",
   "metadata": {},
   "source": [
    "## 2.6 Contributions\n",
    "\n",
    "The paper's main contributions are:\n",
    "\n",
    "- Introducing **single-expert (top-1) routing**, drastically simplifying routing and reducing computational overhead.\n",
    "- Demonstrating practical scaling to **1.6T parameters** with near-constant FLOPs per token.\n",
    "- Presenting clear evidence of performance improvements across diverse NLP benchmarks, validating the model’s practical utility.\n",
    "- Proposing effective model compression through knowledge distillation, enabling deployment of large model capabilities into significantly smaller models.\n",
    "\n",
    "Together, these findings validate the viability of conditional computation at unprecedented scale.\n",
    "\n",
    "---\n"
   ]
  },
  {
   "cell_type": "markdown",
   "id": "57167407-c9a5-429f-87fb-1de5c50a6951",
   "metadata": {
    "id": "57167407-c9a5-429f-87fb-1de5c50a6951"
   },
   "source": [
    "## 3 PEER (parameter efficient expert retrieval)"
   ]
  },
  {
   "cell_type": "markdown",
   "id": "f80b9f11-e31a-41a5-b8e6-813bf37d7c68",
   "metadata": {
    "id": "f80b9f11-e31a-41a5-b8e6-813bf37d7c68"
   },
   "source": [
    "### 3.0 Terms"
   ]
  },
  {
   "cell_type": "markdown",
   "id": "575a768a-a2b2-4fec-a5ea-af30c20dbfd9",
   "metadata": {
    "id": "575a768a-a2b2-4fec-a5ea-af30c20dbfd9"
   },
   "source": [
    "Just to be alligned, we'll explain here the following terms:\n",
    "\n",
    "* **expert** - A specialized model or sub-model intended to handle a specific subset of data or tasks. It can be assumed as a small neural network (Usually some few neurons) which is a sub part of a layer.\n",
    "* **product key** - A mechanism to enable efficient and effective matching between input data and the best-suited experts to process that data in a vast and diverse pool of potential experts"
   ]
  },
  {
   "cell_type": "markdown",
   "id": "ceae322a-6a7f-4b44-b5e4-57bc15d704a5",
   "metadata": {
    "id": "ceae322a-6a7f-4b44-b5e4-57bc15d704a5"
   },
   "source": [
    "### 3.1 Introduction and motivation"
   ]
  },
  {
   "cell_type": "markdown",
   "id": "d5675abf-bf46-4439-9efb-4f57ee397fd3",
   "metadata": {
    "id": "d5675abf-bf46-4439-9efb-4f57ee397fd3"
   },
   "source": [
    "- Based on the following paper: https://arxiv.org/pdf/2407.04153v1.\n",
    "- The main idea here is the innovation of the sparse mixture-of-experts (MoE) model architectures using PEER (parameter efficient expert retrieval) layer.\n",
    "- The PEER layer includes a vast number of tiny expert (over a million) and solves one of the main issues of the traditional models:\n",
    "  - In traditional MoE models, the feedforward layers (FFW) have a linear increase in computational costs and activation memory as the hidden layer width grows.\n",
    "  - However, in PEER, by enabling efficient utilization of a massive number of experts, it can support a further scaling of transformer models while maintaining almost the same computational efficiency.\n",
    "  - It uses the product key technique for sparse retrieval.\n"
   ]
  },
  {
   "cell_type": "markdown",
   "id": "14de9cd4-23cb-4084-9c74-a7fbe21d5623",
   "metadata": {
    "id": "14de9cd4-23cb-4084-9c74-a7fbe21d5623"
   },
   "source": [
    "### 3.2 Architecture and mathematical equalities"
   ]
  },
  {
   "cell_type": "markdown",
   "id": "2bf6aef6-c0ce-4246-8821-0ab1ca0db463",
   "metadata": {
    "id": "2bf6aef6-c0ce-4246-8821-0ab1ca0db463"
   },
   "source": [
    "<img src=\"https://github.com/stavco9/moe-llm-presentation/blob/main/Peer_Layer.png?raw=1\" alt=\"Peer_Layer\" width=\"700\" height=\"700\">"
   ]
  },
  {
   "cell_type": "markdown",
   "id": "f19cc5dd-7fe5-4a11-80c4-807d84608e65",
   "metadata": {
    "id": "f19cc5dd-7fe5-4a11-80c4-807d84608e65"
   },
   "source": [
    "The following is an illustration of the PEER layer:\n",
    "* A PEER layer can be inserted in the middle of a transformer backbone or can be used to replace FFW layers\n",
    "* Given the state vector x from the previous layer, a query\n",
    "network $q$ maps it to a query vector $q(x)$, which is then compared with the product keys to compute the\n",
    "router scores and to retrieve the top $k$ experts $e_1$, ..., $e_k$\n",
    "* After the retrieved experts make their predictions\n",
    "ei(x), their outputs are linearly combined using the softmax-normalized router scores as weights."
   ]
  },
  {
   "cell_type": "markdown",
   "id": "c132de35-4f8d-40b5-b873-7f9a41bffd7d",
   "metadata": {
    "id": "c132de35-4f8d-40b5-b873-7f9a41bffd7d"
   },
   "source": [
    "Formally, a PEER layer is a function $f:{R^n}\\rightarrow{R^m}$ that consists of three parts:\n",
    "* A pool of $N$ experts $E:=\\{{e_i}\\}_{i=1}^{N}$ where each expert $e_i:{R^n}\\rightarrow{R^m}$ shares the same signature as $f$\n",
    "* A matching set of $N$ produect keys: $K:=\\{{k_i}\\}_{i=1}^{N} \\subset R^d$ ($d$ is the dimension of the vectors)\n",
    "* A query network $q:{R^n}\\rightarrow{R^d}$ that maps the input vector $x\\in{R^n}$ to a query vector $q(x)$\n",
    "\n",
    "The layer output is done by the following three steps:\n",
    "1. Retrieving the top $k$ experts: The experts who their corresponding product keys have the highest inner products with the query $q(x)$: $I=T_k(\\{q(x)^Tk_i\\})_{i=1}^{N}$ while $T_k$ is the top $k$ operator\n",
    "2. Actication: Applying nonlinear activations (such as softmax or sigmoid) to the query-key inner products of these\n",
    "top $k$ experts to obtain the router scores: $g_i(x) = s(q(x)^Tk_i)$\n",
    "3. Output: Computing the output by linearly combining the expert outputs weighted by the router scores: $f(x) = \\sum_{{i}\\in{I}}g_i(x)e_i(x)$.\n",
    "\n",
    "Product key retrieval - Efficiency:\n",
    "* Since $N$ can be a huge number $(N \\geq 10^6)$, we don't want to compute it by the naive way\n",
    "* Instead of using $N$ independent $d$-dimensional vectors as our keys $k_i$, we create them by concatenating vectors from two independent sets of $\\frac{d}{2}$-dimensional sub-keys $C, C' \\subset R^{\\frac{d}{2}}$, $|C|=|C'|=\\sqrt{N}$\n",
    "* So in total $K = {\\{[_{c'}^{c}]|c\\in{C}, c'\\in{C'}\\}}$\n",
    "* Hence we choose $N$ to be a perfect square and $d$ to be an even number\n",
    "* Instead of comparing $q(x)$ to all $N$ keys in $K$ and selecting the top $k$ matches, we split the query vector $q(x)$ into two subqueries $q1$ and $q2$ and apply the top $k$ operations to the inner products between the sub-queries and sub-keys\n",
    "respectively\n",
    "* This results in a set of $k^2$ candidate keys, and it is mathematically guaranteed that the $k$ most similar keys to $q(x)$ from $K$ are in this candidate set so we can simply apply the top-k operator again to these $k^2$ inner products to get the top $k$ matching keys from the original set of product keys $K$\n",
    "* Naive way runtime complexity: $O(Nd)$\n",
    "* Efficient way runtime complexity: $O((\\sqrt{N}+k^2)d)$\n",
    "\n",
    "\n",
    "Parameter Efficient Experts and Multi-Head Retrieval:\n",
    "* In other MoE architectures, the hidden layer of each expert is set to the same size as other FFW layers (A few and large experts)\n",
    "* In PEER, every expert is a one hidden layer with a single neuron $e_i(x) := \\sigma(u_i^Tx)v_i$ while $\\sigma$ is a non-linear activation function\n",
    "* Instead of making the size of individual experts different, we are using a multihead retrieval of $h$ independent query networks instead of one, each computes its own query and retrieves a separate set of $k$ experts: $f(x) := \\sum_{i=1}^{h}f^i(x) = \\sum_{i=1}^{h}\\sum_{j \\in I^i} g^j(x)e^j(x)$\n",
    "\n",
    "Hyperparameters and loss function:\n",
    "* There are three main hyperparameters to a standard MoE layer:\n",
    "  1. $P$ - Total number of parameters\n",
    "  2. $P_{active}$ - Total number of active parameters per token\n",
    "  3. $P_{expert}$ - The size of a single expert\n",
    "* Two more important terms:\n",
    "  1. $D$ - Number of training tokens\n",
    "  2. $G := \\frac{P_{active}}{P_{experts}}$ - Number of active experts\n",
    "* Now the loss function is $L(P, D, G) = c + (\\frac{g}{G^\\lambda} + a)\\frac{1}{P^\\alpha} + \\frac{b}{D^\\beta}$ ($a, b, c, g, \\alpha, \\beta, \\lambda$ are constants)\n",
    "* We would like to scale the total number of parameters, of experts and of the tokens, but NOT the number of active parameters, since the number of the active parameters affects the computational and runtime costs\n",
    "* Since we want to increase the number of experts, we need to decrease the size of each expert if we do not increase the number of active parameters. Hence we need a large number of small experts\n",
    "* In PEER, we set $P_{experts}$ to 1 and $P_{active}$ is the number of retrieval heads multiplied by the number of experts retrieved per head which is $hk$. Hence, in PEER layer the number of active experts is $G = hk$"
   ]
  },
  {
   "cell_type": "markdown",
   "id": "5012373d-bae6-4434-a232-692cf8c59c60",
   "metadata": {
    "id": "5012373d-bae6-4434-a232-692cf8c59c60"
   },
   "source": [
    "### 3.3 Results of major experiments"
   ]
  },
  {
   "cell_type": "markdown",
   "id": "cf5015af-e108-4a66-8774-f5ae9a99059f",
   "metadata": {
    "id": "cf5015af-e108-4a66-8774-f5ae9a99059f"
   },
   "source": [
    "<img src=\"https://github.com/stavco9/moe-llm-presentation/blob/main/Peer_Experiment.png?raw=1\" alt=\"PEER_Experiment\" width=\"400\" height=\"400\">"
   ]
  },
  {
   "cell_type": "markdown",
   "id": "421858d6-0557-42b3-b9d5-8e35cdf6a3a2",
   "metadata": {
    "id": "421858d6-0557-42b3-b9d5-8e35cdf6a3a2"
   },
   "source": [
    "The following is a graph of the train loss per batch of their training process"
   ]
  },
  {
   "cell_type": "markdown",
   "id": "9621baeb-678b-4f57-921c-d7ccc874985a",
   "metadata": {
    "id": "9621baeb-678b-4f57-921c-d7ccc874985a"
   },
   "source": [
    "<img src=\"https://github.com/stavco9/moe-llm-presentation/blob/main/6e18_6e19_FLOPs.png?raw=1\" alt=\"6e18_6e19_FLOPs\" width=\"700\" height=\"500\">\n",
    "<img src=\"https://github.com/stavco9/moe-llm-presentation/blob/main/Varying_N_hk.png?raw=1\" alt=\"Varying_N_hk\" width=\"700\" height=\"500\">"
   ]
  },
  {
   "cell_type": "markdown",
   "id": "8ab50e99-1c66-4491-84d1-2a400f6cd1ac",
   "metadata": {
    "id": "8ab50e99-1c66-4491-84d1-2a400f6cd1ac"
   },
   "source": [
    "* The following graphs in the upper side shows the perplexity per number of parameters for 2e19 (more efficient computation) and 2e18 (less efficient computation) FLOP's, comparing different MoE models:\n",
    "  * Dataset is $C4$\n",
    "  * Total number of experts $N$ is $1024^2$\n",
    "  * The number of active experts is $128$ for Dense, PEER and MOE and $256$ memories for PKM\n",
    "  * It can be shown that PEER gives the lower perplexity and with the largest number of parameters\n",
    "* The graph in the left-bottom side shows the perplexity per number of parameters of PEER models, comparing different number of total experts $N$\n",
    "  * The size of the active experts $hk$ is always $128$\n",
    "  * Dataset is $C4$\n",
    "* The graph in the right-bottom side shows the perplexity per number of $h$ independent query networks (Active experts)\n",
    "  * Total number of experts $N$ is always $1024^2$\n",
    "  * Dataset is $C4$"
   ]
  },
  {
   "cell_type": "markdown",
   "id": "aaa4e99a-3ae3-46d6-a9c6-26c578c83c20",
   "metadata": {
    "id": "aaa4e99a-3ae3-46d6-a9c6-26c578c83c20"
   },
   "source": [
    "<img src=\"https://github.com/stavco9/moe-llm-presentation/blob/main/PEER_Experiment_Table.png?raw=1\" alt=\"PEER_Experiment_Table\" width=\"600\" height=\"600\">"
   ]
  },
  {
   "cell_type": "markdown",
   "id": "d2321f72-dc8d-4f60-8ccd-ebe239dec7bd",
   "metadata": {
    "id": "d2321f72-dc8d-4f60-8ccd-ebe239dec7bd"
   },
   "source": [
    "The following table compares the perplexity per model (rows) and per dataset (columns):\n",
    "  * Total number of experts $N$ is $1024^2$\n",
    "  * The number of active experts is $128$ for Dense, PEER and MOE and $256$ memories for PKM"
   ]
  },
  {
   "cell_type": "markdown",
   "id": "f2ce778b-b88f-481a-b266-2a322a9441c5",
   "metadata": {
    "id": "f2ce778b-b88f-481a-b266-2a322a9441c5"
   },
   "source": [
    "<img src=\"https://github.com/stavco9/moe-llm-presentation/blob/main/BatchNormTable.png?raw=1\" alt=\"BatchNormTable\" width=\"600\" height=\"600\">\n",
    "<img src=\"https://github.com/stavco9/moe-llm-presentation/blob/main/BatchNormGraph.png?raw=1\" alt=\"BatchNormGraph\" width=\"400\" height=\"400\">"
   ]
  },
  {
   "cell_type": "markdown",
   "id": "46cf2edd-b70a-433f-b810-d85a38fcf496",
   "metadata": {
    "id": "46cf2edd-b70a-433f-b810-d85a38fcf496"
   },
   "source": [
    "The following table and graph shows the perplexity per number of experts $N$ (In the graph the number of experts $N$ is $1M$) and using two scenarios:\n",
    "* With no query batch normalization\n",
    "* With query batch normalization\n",
    "\n",
    "These are the following details of experiments:\n",
    "* Dataset is $C4$\n",
    "* Model is PEER"
   ]
  },
  {
   "cell_type": "markdown",
   "id": "ee6b5ff6-5f7c-42fa-ace0-fc9eea195c76",
   "metadata": {
    "id": "ee6b5ff6-5f7c-42fa-ace0-fc9eea195c76"
   },
   "source": [
    "### 3.4 Hands-on examples"
   ]
  },
  {
   "cell_type": "code",
   "execution_count": null,
   "id": "eab3ba9b-c1dc-4455-ad1d-faef545512f4",
   "metadata": {
    "id": "eab3ba9b-c1dc-4455-ad1d-faef545512f4"
   },
   "outputs": [],
   "source": [
    "## PEER Forward layer Pseudo Code\n",
    "def peer_forward (self, x):\n",
    "  # Embedding layers storing the down /up projection weights of all experts\n",
    "  self.w_down_embed = nn.Embed(num_embeddings=self.n_experts, features=self.d_model)\n",
    "  self.w_up_embed = nn.Embed(num_embeddings=self.n_experts, features=self.d_model)\n",
    "\n",
    "  # Retrieve the weights of the top matching experts using product keys\n",
    "  # indices and scores have the shape ’bthk ’, where h is the number of heads\n",
    "  indices, scores = self.get_indices(self.query_proj(x), self.sub_keys, top_k=self.k)\n",
    "  w_down = self.w_down_embed(indices)\n",
    "  w_up = self.w_up_embed(indices)\n",
    "\n",
    "  # Compute weighted average of expert outputs\n",
    "  x = jnp.einsum('btd , bthkd - > bthk ', x, w_down)\n",
    "  x = self.activation(x)\n",
    "  x = x * nn.softmax(scores)\n",
    "  x = jnp.einsum ('bthk , bthkd -> btd ', x, w_up)\n",
    "  return x"
   ]
  },
  {
   "cell_type": "code",
   "execution_count": null,
   "id": "c3a63e7d-904a-496b-a20f-0a7d0171ece7",
   "metadata": {
    "id": "c3a63e7d-904a-496b-a20f-0a7d0171ece7"
   },
   "outputs": [],
   "source": [
    "!pip install datasets --force-reinstall"
   ]
  },
  {
   "cell_type": "code",
   "execution_count": null,
   "id": "JqhTlTihNRI8",
   "metadata": {
    "id": "JqhTlTihNRI8"
   },
   "outputs": [],
   "source": [
    "%rm -rf moe-llm-presentation\n",
    "!git clone https://github.com/stavco9/moe-llm-presentation\n",
    "%cd moe-llm-presentation/peer_main\n",
    "%ls -la"
   ]
  },
  {
   "cell_type": "code",
   "execution_count": 2,
   "id": "lEGeog9d9l66",
   "metadata": {
    "colab": {
     "base_uri": "https://localhost:8080/"
    },
    "id": "lEGeog9d9l66",
    "outputId": "7f2f7939-35dc-4a8f-f5f1-26dffbd0f97e"
   },
   "outputs": [
    {
     "name": "stdout",
     "output_type": "stream",
     "text": [
      "{'vocab_size': '50257', 'dim': '64', 'num_layers': '4', 'num_heads': '4', 'num_experts': '16384', 'top_k': '8', 'batch_size': '6', 'num_epochs': '6', 'learning_rate': '0.0001', 'dataset': 'Salesforce/wikitext'}\n",
      "Loading pretrained GPT2 tokenizer transformer\n",
      "tokenizer_config.json: 100% 26.0/26.0 [00:00<00:00, 212kB/s]\n",
      "vocab.json: 100% 1.04M/1.04M [00:00<00:00, 1.59MB/s]\n",
      "merges.txt: 100% 456k/456k [00:00<00:00, 1.05MB/s]\n",
      "tokenizer.json: 100% 1.36M/1.36M [00:00<00:00, 1.99MB/s]\n",
      "config.json: 100% 665/665 [00:00<00:00, 6.02MB/s]\n",
      "Finished loading pretrained GPT2 tokenizer transformer\n",
      "Initalizing PEER model\n",
      "Finished initalizing PEER model\n",
      "Loading datasets\n",
      "README.md: 100% 10.5k/10.5k [00:00<00:00, 43.2MB/s]\n",
      "test-00000-of-00001.parquet: 100% 733k/733k [00:00<00:00, 75.7MB/s]\n",
      "train-00000-of-00002.parquet: 100% 157M/157M [00:00<00:00, 350MB/s]\n",
      "train-00001-of-00002.parquet: 100% 157M/157M [00:00<00:00, 506MB/s]\n",
      "validation-00000-of-00001.parquet: 100% 657k/657k [00:00<00:00, 409MB/s]\n",
      "Generating test split: 100% 4358/4358 [00:00<00:00, 461422.14 examples/s]\n",
      "Generating train split: 100% 1801350/1801350 [00:01<00:00, 908135.61 examples/s]\n",
      "Generating validation split: 100% 3760/3760 [00:00<00:00, 632899.23 examples/s]\n",
      "Filter: 100% 1801350/1801350 [00:04<00:00, 402742.27 examples/s]\n",
      "Filter: 100% 3760/3760 [00:00<00:00, 315582.08 examples/s]\n",
      "Finished loading datasets\n",
      "Number of parameters: 23703808\n",
      "Epoch Training 1/6\n",
      "100% 50000/50000 [1:24:23<00:00,  9.88it/s]\n",
      "Epoch Validation 1/6\n",
      "100% 411/411 [00:17<00:00, 22.95it/s]\n",
      "Epoch 1/6, Train Loss: 1.8483, Val Loss: 1.4844, Val Perplexity: 4.4124\n",
      "Epoch Training 2/6\n",
      "100% 50000/50000 [1:24:23<00:00,  9.88it/s]\n",
      "Epoch Validation 2/6\n",
      "100% 411/411 [00:17<00:00, 23.00it/s]\n",
      "Epoch 2/6, Train Loss: 1.3455, Val Loss: 1.8030, Val Perplexity: 6.0680\n",
      "Epoch Training 3/6\n",
      "100% 50000/50000 [1:24:22<00:00,  9.88it/s]\n",
      "Epoch Validation 3/6\n",
      "100% 411/411 [00:17<00:00, 22.99it/s]\n",
      "Epoch 3/6, Train Loss: 1.2391, Val Loss: 1.8606, Val Perplexity: 6.4276\n",
      "Epoch Training 4/6\n",
      "100% 50000/50000 [1:24:23<00:00,  9.88it/s]\n",
      "Epoch Validation 4/6\n",
      "100% 411/411 [00:17<00:00, 23.03it/s]\n",
      "Epoch 4/6, Train Loss: 1.1785, Val Loss: 1.8852, Val Perplexity: 6.5876\n",
      "Epoch Training 5/6\n",
      "100% 50000/50000 [1:24:23<00:00,  9.87it/s]\n",
      "Epoch Validation 5/6\n",
      "100% 411/411 [00:17<00:00, 22.88it/s]\n",
      "Epoch 5/6, Train Loss: 1.1468, Val Loss: 1.8965, Val Perplexity: 6.6626\n",
      "Epoch Training 6/6\n",
      "100% 50000/50000 [1:24:22<00:00,  9.88it/s]\n",
      "Epoch Validation 6/6\n",
      "100% 411/411 [00:17<00:00, 23.05it/s]\n",
      "Epoch 6/6, Train Loss: 1.1283, Val Loss: 1.8989, Val Perplexity: 6.6784\n"
     ]
    }
   ],
   "source": [
    "import os\n",
    "\n",
    "os.environ['LOCAL_RANK'] = '0'\n",
    "os.environ['OMP_NUM_THREADS'] = '1'\n",
    "os.environ[\"PYTORCH_CUDA_ALLOC_CONF\"] = \"max_split_size_mb:8192\"\n",
    "\n",
    "# Hyperparameters\n",
    "vocab_size = 50257  # GPT-2 tokenizer vocab size\n",
    "dim = 64\n",
    "num_layers = 4\n",
    "num_heads = 4\n",
    "num_experts = 128 * 128\n",
    "top_k = 8\n",
    "batch_size = 6\n",
    "num_epochs = 6\n",
    "learning_rate = 1e-4\n",
    "dataset = 'Salesforce/wikitext'\n",
    "\n",
    "!torchrun --nproc_per_node=1 --nnodes=1 main.py --vocab-size={vocab_size} --dim={dim} \\\n",
    "  --num-layers={num_layers} --num-heads={num_heads} --num-experts={num_experts} --top-k={top_k} --batch-size={batch_size} \\\n",
    "  --num-epochs={num_epochs} --learning-rate={learning_rate} --dataset={dataset}"
   ]
  },
  {
   "cell_type": "code",
   "execution_count": 19,
   "id": "-SH2tltCB73Z",
   "metadata": {
    "colab": {
     "base_uri": "https://localhost:8080/",
     "height": 317
    },
    "id": "-SH2tltCB73Z",
    "outputId": "9cd0f35f-774e-4c10-d3ac-e5c37b1a4bbf"
   },
   "outputs": [
    {
     "data": {
      "image/png": "[encoded data removed]",
      "text/plain": [
       "<IPython.core.display.Image object>"
      ]
     },
     "execution_count": 19,
     "metadata": {
      "image/png": {
       "height": 300,
       "width": 500
      }
     },
     "output_type": "execute_result"
    }
   ],
   "source": [
    "Image(filename=\"plots/epoch_1_losses.png\", width=500, height=300)"
   ]
  },
  {
   "cell_type": "code",
   "execution_count": 20,
   "id": "2YcIbxwPD12-",
   "metadata": {
    "colab": {
     "base_uri": "https://localhost:8080/",
     "height": 317
    },
    "id": "2YcIbxwPD12-",
    "outputId": "b19ed6e3-95e6-40b4-93dd-47fb332af1be"
   },
   "outputs": [
    {
     "data": {
      "image/png": "[encoded data removed]",
      "text/plain": [
       "<IPython.core.display.Image object>"
      ]
     },
     "execution_count": 20,
     "metadata": {
      "image/png": {
       "height": 300,
       "width": 500
      }
     },
     "output_type": "execute_result"
    }
   ],
   "source": [
    "Image(filename=\"plots/epoch_2_losses.png\", width=500, height=300)"
   ]
  },
  {
   "cell_type": "code",
   "execution_count": 21,
   "id": "TnuyiKYtD4Eh",
   "metadata": {
    "colab": {
     "base_uri": "https://localhost:8080/",
     "height": 317
    },
    "id": "TnuyiKYtD4Eh",
    "outputId": "46274847-ead8-4348-b992-887f080cf35e"
   },
   "outputs": [
    {
     "data": {
      "image/png": "[encoded data removed]",
      "text/plain": [
       "<IPython.core.display.Image object>"
      ]
     },
     "execution_count": 21,
     "metadata": {
      "image/png": {
       "height": 300,
       "width": 500
      }
     },
     "output_type": "execute_result"
    }
   ],
   "source": [
    "Image(filename=\"plots/epoch_6_losses.png\", width=500, height=300)"
   ]
  },
  {
   "cell_type": "code",
   "execution_count": 26,
   "id": "CvNeB9FKD6CZ",
   "metadata": {
    "colab": {
     "base_uri": "https://localhost:8080/",
     "height": 17
    },
    "id": "CvNeB9FKD6CZ",
    "outputId": "0b9c1f23-95c2-4474-8660-b5fbf42dafd6"
   },
   "outputs": [
    {
     "data": {
      "application/javascript": [
       "\n",
       "    async function download(id, filename, size) {\n",
       "      if (!google.colab.kernel.accessAllowed) {\n",
       "        return;\n",
       "      }\n",
       "      const div = document.createElement('div');\n",
       "      const label = document.createElement('label');\n",
       "      label.textContent = `Downloading \"${filename}\": `;\n",
       "      div.appendChild(label);\n",
       "      const progress = document.createElement('progress');\n",
       "      progress.max = size;\n",
       "      div.appendChild(progress);\n",
       "      document.body.appendChild(div);\n",
       "\n",
       "      const buffers = [];\n",
       "      let downloaded = 0;\n",
       "\n",
       "      const channel = await google.colab.kernel.comms.open(id);\n",
       "      // Send a message to notify the kernel that we're ready.\n",
       "      channel.send({})\n",
       "\n",
       "      for await (const message of channel.messages) {\n",
       "        // Send a message to notify the kernel that we're ready.\n",
       "        channel.send({})\n",
       "        if (message.buffers) {\n",
       "          for (const buffer of message.buffers) {\n",
       "            buffers.push(buffer);\n",
       "            downloaded += buffer.byteLength;\n",
       "            progress.value = downloaded;\n",
       "          }\n",
       "        }\n",
       "      }\n",
       "      const blob = new Blob(buffers, {type: 'application/binary'});\n",
       "      const a = document.createElement('a');\n",
       "      a.href = window.URL.createObjectURL(blob);\n",
       "      a.download = filename;\n",
       "      div.appendChild(a);\n",
       "      a.click();\n",
       "      div.remove();\n",
       "    }\n",
       "  "
      ],
      "text/plain": [
       "<IPython.core.display.Javascript object>"
      ]
     },
     "metadata": {},
     "output_type": "display_data"
    },
    {
     "data": {
      "application/javascript": [
       "download(\"download_710288bc-e10b-4f58-adb3-678c2a29f7b3\", \"best_peer_language_model.pth\", 94843360)"
      ],
      "text/plain": [
       "<IPython.core.display.Javascript object>"
      ]
     },
     "metadata": {},
     "output_type": "display_data"
    },
    {
     "data": {
      "application/javascript": [
       "\n",
       "    async function download(id, filename, size) {\n",
       "      if (!google.colab.kernel.accessAllowed) {\n",
       "        return;\n",
       "      }\n",
       "      const div = document.createElement('div');\n",
       "      const label = document.createElement('label');\n",
       "      label.textContent = `Downloading \"${filename}\": `;\n",
       "      div.appendChild(label);\n",
       "      const progress = document.createElement('progress');\n",
       "      progress.max = size;\n",
       "      div.appendChild(progress);\n",
       "      document.body.appendChild(div);\n",
       "\n",
       "      const buffers = [];\n",
       "      let downloaded = 0;\n",
       "\n",
       "      const channel = await google.colab.kernel.comms.open(id);\n",
       "      // Send a message to notify the kernel that we're ready.\n",
       "      channel.send({})\n",
       "\n",
       "      for await (const message of channel.messages) {\n",
       "        // Send a message to notify the kernel that we're ready.\n",
       "        channel.send({})\n",
       "        if (message.buffers) {\n",
       "          for (const buffer of message.buffers) {\n",
       "            buffers.push(buffer);\n",
       "            downloaded += buffer.byteLength;\n",
       "            progress.value = downloaded;\n",
       "          }\n",
       "        }\n",
       "      }\n",
       "      const blob = new Blob(buffers, {type: 'application/binary'});\n",
       "      const a = document.createElement('a');\n",
       "      a.href = window.URL.createObjectURL(blob);\n",
       "      a.download = filename;\n",
       "      div.appendChild(a);\n",
       "      a.click();\n",
       "      div.remove();\n",
       "    }\n",
       "  "
      ],
      "text/plain": [
       "<IPython.core.display.Javascript object>"
      ]
     },
     "metadata": {},
     "output_type": "display_data"
    },
    {
     "data": {
      "application/javascript": [
       "download(\"download_61bde1d1-d2ed-4f1c-a126-cd462b7a025c\", \"final_peer_language_model.pth\", 94843433)"
      ],
      "text/plain": [
       "<IPython.core.display.Javascript object>"
      ]
     },
     "metadata": {},
     "output_type": "display_data"
    },
    {
     "data": {
      "application/javascript": [
       "\n",
       "    async function download(id, filename, size) {\n",
       "      if (!google.colab.kernel.accessAllowed) {\n",
       "        return;\n",
       "      }\n",
       "      const div = document.createElement('div');\n",
       "      const label = document.createElement('label');\n",
       "      label.textContent = `Downloading \"${filename}\": `;\n",
       "      div.appendChild(label);\n",
       "      const progress = document.createElement('progress');\n",
       "      progress.max = size;\n",
       "      div.appendChild(progress);\n",
       "      document.body.appendChild(div);\n",
       "\n",
       "      const buffers = [];\n",
       "      let downloaded = 0;\n",
       "\n",
       "      const channel = await google.colab.kernel.comms.open(id);\n",
       "      // Send a message to notify the kernel that we're ready.\n",
       "      channel.send({})\n",
       "\n",
       "      for await (const message of channel.messages) {\n",
       "        // Send a message to notify the kernel that we're ready.\n",
       "        channel.send({})\n",
       "        if (message.buffers) {\n",
       "          for (const buffer of message.buffers) {\n",
       "            buffers.push(buffer);\n",
       "            downloaded += buffer.byteLength;\n",
       "            progress.value = downloaded;\n",
       "          }\n",
       "        }\n",
       "      }\n",
       "      const blob = new Blob(buffers, {type: 'application/binary'});\n",
       "      const a = document.createElement('a');\n",
       "      a.href = window.URL.createObjectURL(blob);\n",
       "      a.download = filename;\n",
       "      div.appendChild(a);\n",
       "      a.click();\n",
       "      div.remove();\n",
       "    }\n",
       "  "
      ],
      "text/plain": [
       "<IPython.core.display.Javascript object>"
      ]
     },
     "metadata": {},
     "output_type": "display_data"
    },
    {
     "data": {
      "application/javascript": [
       "download(\"download_9db1f9d3-b119-4b63-b826-9fd2d479be6b\", \"epoch_6_losses.png\", 34676)"
      ],
      "text/plain": [
       "<IPython.core.display.Javascript object>"
      ]
     },
     "metadata": {},
     "output_type": "display_data"
    },
    {
     "data": {
      "application/javascript": [
       "\n",
       "    async function download(id, filename, size) {\n",
       "      if (!google.colab.kernel.accessAllowed) {\n",
       "        return;\n",
       "      }\n",
       "      const div = document.createElement('div');\n",
       "      const label = document.createElement('label');\n",
       "      label.textContent = `Downloading \"${filename}\": `;\n",
       "      div.appendChild(label);\n",
       "      const progress = document.createElement('progress');\n",
       "      progress.max = size;\n",
       "      div.appendChild(progress);\n",
       "      document.body.appendChild(div);\n",
       "\n",
       "      const buffers = [];\n",
       "      let downloaded = 0;\n",
       "\n",
       "      const channel = await google.colab.kernel.comms.open(id);\n",
       "      // Send a message to notify the kernel that we're ready.\n",
       "      channel.send({})\n",
       "\n",
       "      for await (const message of channel.messages) {\n",
       "        // Send a message to notify the kernel that we're ready.\n",
       "        channel.send({})\n",
       "        if (message.buffers) {\n",
       "          for (const buffer of message.buffers) {\n",
       "            buffers.push(buffer);\n",
       "            downloaded += buffer.byteLength;\n",
       "            progress.value = downloaded;\n",
       "          }\n",
       "        }\n",
       "      }\n",
       "      const blob = new Blob(buffers, {type: 'application/binary'});\n",
       "      const a = document.createElement('a');\n",
       "      a.href = window.URL.createObjectURL(blob);\n",
       "      a.download = filename;\n",
       "      div.appendChild(a);\n",
       "      a.click();\n",
       "      div.remove();\n",
       "    }\n",
       "  "
      ],
      "text/plain": [
       "<IPython.core.display.Javascript object>"
      ]
     },
     "metadata": {},
     "output_type": "display_data"
    },
    {
     "data": {
      "application/javascript": [
       "download(\"download_860ea6c1-baa4-40aa-bcc8-ba51cc0be2ef\", \"epoch_3_losses.png\", 35198)"
      ],
      "text/plain": [
       "<IPython.core.display.Javascript object>"
      ]
     },
     "metadata": {},
     "output_type": "display_data"
    },
    {
     "data": {
      "application/javascript": [
       "\n",
       "    async function download(id, filename, size) {\n",
       "      if (!google.colab.kernel.accessAllowed) {\n",
       "        return;\n",
       "      }\n",
       "      const div = document.createElement('div');\n",
       "      const label = document.createElement('label');\n",
       "      label.textContent = `Downloading \"${filename}\": `;\n",
       "      div.appendChild(label);\n",
       "      const progress = document.createElement('progress');\n",
       "      progress.max = size;\n",
       "      div.appendChild(progress);\n",
       "      document.body.appendChild(div);\n",
       "\n",
       "      const buffers = [];\n",
       "      let downloaded = 0;\n",
       "\n",
       "      const channel = await google.colab.kernel.comms.open(id);\n",
       "      // Send a message to notify the kernel that we're ready.\n",
       "      channel.send({})\n",
       "\n",
       "      for await (const message of channel.messages) {\n",
       "        // Send a message to notify the kernel that we're ready.\n",
       "        channel.send({})\n",
       "        if (message.buffers) {\n",
       "          for (const buffer of message.buffers) {\n",
       "            buffers.push(buffer);\n",
       "            downloaded += buffer.byteLength;\n",
       "            progress.value = downloaded;\n",
       "          }\n",
       "        }\n",
       "      }\n",
       "      const blob = new Blob(buffers, {type: 'application/binary'});\n",
       "      const a = document.createElement('a');\n",
       "      a.href = window.URL.createObjectURL(blob);\n",
       "      a.download = filename;\n",
       "      div.appendChild(a);\n",
       "      a.click();\n",
       "      div.remove();\n",
       "    }\n",
       "  "
      ],
      "text/plain": [
       "<IPython.core.display.Javascript object>"
      ]
     },
     "metadata": {},
     "output_type": "display_data"
    },
    {
     "data": {
      "application/javascript": [
       "download(\"download_e221cb7e-e66e-4658-abd1-0b47157be745\", \"epoch_2_losses.png\", 35598)"
      ],
      "text/plain": [
       "<IPython.core.display.Javascript object>"
      ]
     },
     "metadata": {},
     "output_type": "display_data"
    },
    {
     "data": {
      "application/javascript": [
       "\n",
       "    async function download(id, filename, size) {\n",
       "      if (!google.colab.kernel.accessAllowed) {\n",
       "        return;\n",
       "      }\n",
       "      const div = document.createElement('div');\n",
       "      const label = document.createElement('label');\n",
       "      label.textContent = `Downloading \"${filename}\": `;\n",
       "      div.appendChild(label);\n",
       "      const progress = document.createElement('progress');\n",
       "      progress.max = size;\n",
       "      div.appendChild(progress);\n",
       "      document.body.appendChild(div);\n",
       "\n",
       "      const buffers = [];\n",
       "      let downloaded = 0;\n",
       "\n",
       "      const channel = await google.colab.kernel.comms.open(id);\n",
       "      // Send a message to notify the kernel that we're ready.\n",
       "      channel.send({})\n",
       "\n",
       "      for await (const message of channel.messages) {\n",
       "        // Send a message to notify the kernel that we're ready.\n",
       "        channel.send({})\n",
       "        if (message.buffers) {\n",
       "          for (const buffer of message.buffers) {\n",
       "            buffers.push(buffer);\n",
       "            downloaded += buffer.byteLength;\n",
       "            progress.value = downloaded;\n",
       "          }\n",
       "        }\n",
       "      }\n",
       "      const blob = new Blob(buffers, {type: 'application/binary'});\n",
       "      const a = document.createElement('a');\n",
       "      a.href = window.URL.createObjectURL(blob);\n",
       "      a.download = filename;\n",
       "      div.appendChild(a);\n",
       "      a.click();\n",
       "      div.remove();\n",
       "    }\n",
       "  "
      ],
      "text/plain": [
       "<IPython.core.display.Javascript object>"
      ]
     },
     "metadata": {},
     "output_type": "display_data"
    },
    {
     "data": {
      "application/javascript": [
       "download(\"download_9a1892f6-6418-4274-a5e7-51ad9f780dba\", \"epoch_1_losses.png\", 35001)"
      ],
      "text/plain": [
       "<IPython.core.display.Javascript object>"
      ]
     },
     "metadata": {},
     "output_type": "display_data"
    },
    {
     "data": {
      "application/javascript": [
       "\n",
       "    async function download(id, filename, size) {\n",
       "      if (!google.colab.kernel.accessAllowed) {\n",
       "        return;\n",
       "      }\n",
       "      const div = document.createElement('div');\n",
       "      const label = document.createElement('label');\n",
       "      label.textContent = `Downloading \"${filename}\": `;\n",
       "      div.appendChild(label);\n",
       "      const progress = document.createElement('progress');\n",
       "      progress.max = size;\n",
       "      div.appendChild(progress);\n",
       "      document.body.appendChild(div);\n",
       "\n",
       "      const buffers = [];\n",
       "      let downloaded = 0;\n",
       "\n",
       "      const channel = await google.colab.kernel.comms.open(id);\n",
       "      // Send a message to notify the kernel that we're ready.\n",
       "      channel.send({})\n",
       "\n",
       "      for await (const message of channel.messages) {\n",
       "        // Send a message to notify the kernel that we're ready.\n",
       "        channel.send({})\n",
       "        if (message.buffers) {\n",
       "          for (const buffer of message.buffers) {\n",
       "            buffers.push(buffer);\n",
       "            downloaded += buffer.byteLength;\n",
       "            progress.value = downloaded;\n",
       "          }\n",
       "        }\n",
       "      }\n",
       "      const blob = new Blob(buffers, {type: 'application/binary'});\n",
       "      const a = document.createElement('a');\n",
       "      a.href = window.URL.createObjectURL(blob);\n",
       "      a.download = filename;\n",
       "      div.appendChild(a);\n",
       "      a.click();\n",
       "      div.remove();\n",
       "    }\n",
       "  "
      ],
      "text/plain": [
       "<IPython.core.display.Javascript object>"
      ]
     },
     "metadata": {},
     "output_type": "display_data"
    },
    {
     "data": {
      "application/javascript": [
       "download(\"download_0bca479d-8d86-4efb-bcf7-5e6d41aa3a3b\", \"epoch_4_losses.png\", 34824)"
      ],
      "text/plain": [
       "<IPython.core.display.Javascript object>"
      ]
     },
     "metadata": {},
     "output_type": "display_data"
    },
    {
     "data": {
      "application/javascript": [
       "\n",
       "    async function download(id, filename, size) {\n",
       "      if (!google.colab.kernel.accessAllowed) {\n",
       "        return;\n",
       "      }\n",
       "      const div = document.createElement('div');\n",
       "      const label = document.createElement('label');\n",
       "      label.textContent = `Downloading \"${filename}\": `;\n",
       "      div.appendChild(label);\n",
       "      const progress = document.createElement('progress');\n",
       "      progress.max = size;\n",
       "      div.appendChild(progress);\n",
       "      document.body.appendChild(div);\n",
       "\n",
       "      const buffers = [];\n",
       "      let downloaded = 0;\n",
       "\n",
       "      const channel = await google.colab.kernel.comms.open(id);\n",
       "      // Send a message to notify the kernel that we're ready.\n",
       "      channel.send({})\n",
       "\n",
       "      for await (const message of channel.messages) {\n",
       "        // Send a message to notify the kernel that we're ready.\n",
       "        channel.send({})\n",
       "        if (message.buffers) {\n",
       "          for (const buffer of message.buffers) {\n",
       "            buffers.push(buffer);\n",
       "            downloaded += buffer.byteLength;\n",
       "            progress.value = downloaded;\n",
       "          }\n",
       "        }\n",
       "      }\n",
       "      const blob = new Blob(buffers, {type: 'application/binary'});\n",
       "      const a = document.createElement('a');\n",
       "      a.href = window.URL.createObjectURL(blob);\n",
       "      a.download = filename;\n",
       "      div.appendChild(a);\n",
       "      a.click();\n",
       "      div.remove();\n",
       "    }\n",
       "  "
      ],
      "text/plain": [
       "<IPython.core.display.Javascript object>"
      ]
     },
     "metadata": {},
     "output_type": "display_data"
    },
    {
     "data": {
      "application/javascript": [
       "download(\"download_3d4b6e5a-272e-47f1-9972-34de91670633\", \"epoch_5_losses.png\", 34538)"
      ],
      "text/plain": [
       "<IPython.core.display.Javascript object>"
      ]
     },
     "metadata": {},
     "output_type": "display_data"
    }
   ],
   "source": [
    "from google.colab import files as colab_files\n",
    "colab_files.download('best_peer_language_model.pth')\n",
    "colab_files.download('final_peer_language_model.pth')\n",
    "for root, _, files in os.walk('plots'):\n",
    "    for filename in files:  # loop through files in the current directory\n",
    "        colab_files.download(os.path.join(root, filename))"
   ]
  }
 ],
 "metadata": {
  "accelerator": "GPU",
  "colab": {
   "gpuType": "T4",
   "include_colab_link": true,
   "machine_shape": "hm",
   "provenance": []
  },
  "kernelspec": {
   "display_name": "Stav Main Kernel",
   "language": "python",
   "name": "stavenv"
  },
  "language_info": {
   "codemirror_mode": {
    "name": "ipython",
    "version": 3
   },
   "file_extension": ".py",
   "mimetype": "text/x-python",
   "name": "python",
   "nbconvert_exporter": "python",
   "pygments_lexer": "ipython3",
   "version": "3.13.1"
  }
 },
 "nbformat": 4,
 "nbformat_minor": 5
}
